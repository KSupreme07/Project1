{
 "cells": [
  {
   "cell_type": "code",
   "execution_count": 12,
   "metadata": {},
   "outputs": [],
   "source": [
    "%matplotlib inline\n",
    "import pandas as pd\n",
    "import numpy as np\n",
    "\n",
    "\n",
    "# Dependencies and Setup\n",
    "import matplotlib.pyplot as plt\n",
    "import matplotlib.patches as mpatches"
   ]
  },
  {
   "cell_type": "code",
   "execution_count": 13,
   "metadata": {},
   "outputs": [],
   "source": [
    "# File to Load (Remember to Change These)\n",
    "file_to_load = \"Resources/airline_delay_causes1.csv\"\n",
    "\n",
    "# Read Flight File and store into Pandas data frame\n",
    "flight = pd.read_csv(file_to_load)\n",
    "flight_df = pd.DataFrame(flight)"
   ]
  },
  {
   "cell_type": "code",
   "execution_count": 14,
   "metadata": {},
   "outputs": [
    {
     "data": {
      "text/html": [
       "<div>\n",
       "<style scoped>\n",
       "    .dataframe tbody tr th:only-of-type {\n",
       "        vertical-align: middle;\n",
       "    }\n",
       "\n",
       "    .dataframe tbody tr th {\n",
       "        vertical-align: top;\n",
       "    }\n",
       "\n",
       "    .dataframe thead th {\n",
       "        text-align: right;\n",
       "    }\n",
       "</style>\n",
       "<table border=\"1\" class=\"dataframe\">\n",
       "  <thead>\n",
       "    <tr style=\"text-align: right;\">\n",
       "      <th></th>\n",
       "      <th>year</th>\n",
       "      <th>month</th>\n",
       "      <th>Season</th>\n",
       "      <th>carrier</th>\n",
       "      <th>carrier_name</th>\n",
       "      <th>airport</th>\n",
       "      <th>airport_name</th>\n",
       "      <th>arr_flights</th>\n",
       "      <th>arr_del15</th>\n",
       "      <th>carrier_ct</th>\n",
       "      <th>...</th>\n",
       "      <th>security_ct</th>\n",
       "      <th>late_aircraft_ct</th>\n",
       "      <th>arr_cancelled</th>\n",
       "      <th>arr_diverted</th>\n",
       "      <th>arr_delay</th>\n",
       "      <th>carrier_delay</th>\n",
       "      <th>weather_delay</th>\n",
       "      <th>nas_delay</th>\n",
       "      <th>security_delay</th>\n",
       "      <th>late_aircraft_delay</th>\n",
       "    </tr>\n",
       "  </thead>\n",
       "  <tbody>\n",
       "    <tr>\n",
       "      <th>0</th>\n",
       "      <td>2013</td>\n",
       "      <td>7</td>\n",
       "      <td>A</td>\n",
       "      <td>9E</td>\n",
       "      <td>Pinnacle Airlines Inc.</td>\n",
       "      <td>AUS</td>\n",
       "      <td>Austin, TX: Austin - Bergstrom International</td>\n",
       "      <td>156.0</td>\n",
       "      <td>45.0</td>\n",
       "      <td>19.94</td>\n",
       "      <td>...</td>\n",
       "      <td>0.00</td>\n",
       "      <td>14.05</td>\n",
       "      <td>3.0</td>\n",
       "      <td>1.0</td>\n",
       "      <td>2416.0</td>\n",
       "      <td>1118.0</td>\n",
       "      <td>53.0</td>\n",
       "      <td>398.0</td>\n",
       "      <td>0.0</td>\n",
       "      <td>847.0</td>\n",
       "    </tr>\n",
       "    <tr>\n",
       "      <th>1</th>\n",
       "      <td>2013</td>\n",
       "      <td>7</td>\n",
       "      <td>A</td>\n",
       "      <td>9E</td>\n",
       "      <td>Pinnacle Airlines Inc.</td>\n",
       "      <td>MEM</td>\n",
       "      <td>Memphis, TN: Memphis International</td>\n",
       "      <td>473.0</td>\n",
       "      <td>88.0</td>\n",
       "      <td>33.96</td>\n",
       "      <td>...</td>\n",
       "      <td>0.00</td>\n",
       "      <td>31.90</td>\n",
       "      <td>20.0</td>\n",
       "      <td>1.0</td>\n",
       "      <td>6430.0</td>\n",
       "      <td>2579.0</td>\n",
       "      <td>27.0</td>\n",
       "      <td>802.0</td>\n",
       "      <td>0.0</td>\n",
       "      <td>3022.0</td>\n",
       "    </tr>\n",
       "    <tr>\n",
       "      <th>2</th>\n",
       "      <td>2013</td>\n",
       "      <td>7</td>\n",
       "      <td>A</td>\n",
       "      <td>9E</td>\n",
       "      <td>Pinnacle Airlines Inc.</td>\n",
       "      <td>MSP</td>\n",
       "      <td>Minneapolis, MN: Minneapolis-St Paul Internati...</td>\n",
       "      <td>3124.0</td>\n",
       "      <td>515.0</td>\n",
       "      <td>153.42</td>\n",
       "      <td>...</td>\n",
       "      <td>0.00</td>\n",
       "      <td>252.26</td>\n",
       "      <td>91.0</td>\n",
       "      <td>6.0</td>\n",
       "      <td>35777.0</td>\n",
       "      <td>14112.0</td>\n",
       "      <td>687.0</td>\n",
       "      <td>4481.0</td>\n",
       "      <td>0.0</td>\n",
       "      <td>16497.0</td>\n",
       "    </tr>\n",
       "    <tr>\n",
       "      <th>3</th>\n",
       "      <td>2013</td>\n",
       "      <td>7</td>\n",
       "      <td>A</td>\n",
       "      <td>9E</td>\n",
       "      <td>Pinnacle Airlines Inc.</td>\n",
       "      <td>CVG</td>\n",
       "      <td>Cincinnati, OH: Cincinnati/Northern Kentucky I...</td>\n",
       "      <td>1580.0</td>\n",
       "      <td>342.0</td>\n",
       "      <td>100.13</td>\n",
       "      <td>...</td>\n",
       "      <td>0.00</td>\n",
       "      <td>155.33</td>\n",
       "      <td>68.0</td>\n",
       "      <td>2.0</td>\n",
       "      <td>24171.0</td>\n",
       "      <td>7559.0</td>\n",
       "      <td>620.0</td>\n",
       "      <td>4629.0</td>\n",
       "      <td>0.0</td>\n",
       "      <td>11363.0</td>\n",
       "    </tr>\n",
       "    <tr>\n",
       "      <th>4</th>\n",
       "      <td>2013</td>\n",
       "      <td>7</td>\n",
       "      <td>A</td>\n",
       "      <td>9E</td>\n",
       "      <td>Pinnacle Airlines Inc.</td>\n",
       "      <td>PHL</td>\n",
       "      <td>Philadelphia, PA: Philadelphia International</td>\n",
       "      <td>249.0</td>\n",
       "      <td>93.0</td>\n",
       "      <td>20.34</td>\n",
       "      <td>...</td>\n",
       "      <td>0.51</td>\n",
       "      <td>26.60</td>\n",
       "      <td>22.0</td>\n",
       "      <td>0.0</td>\n",
       "      <td>6980.0</td>\n",
       "      <td>1863.0</td>\n",
       "      <td>30.0</td>\n",
       "      <td>2791.0</td>\n",
       "      <td>19.0</td>\n",
       "      <td>2277.0</td>\n",
       "    </tr>\n",
       "  </tbody>\n",
       "</table>\n",
       "<p>5 rows × 22 columns</p>\n",
       "</div>"
      ],
      "text/plain": [
       "   year   month Season carrier            carrier_name airport  \\\n",
       "0  2013       7      A      9E  Pinnacle Airlines Inc.     AUS   \n",
       "1  2013       7      A      9E  Pinnacle Airlines Inc.     MEM   \n",
       "2  2013       7      A      9E  Pinnacle Airlines Inc.     MSP   \n",
       "3  2013       7      A      9E  Pinnacle Airlines Inc.     CVG   \n",
       "4  2013       7      A      9E  Pinnacle Airlines Inc.     PHL   \n",
       "\n",
       "                                        airport_name  arr_flights  arr_del15  \\\n",
       "0       Austin, TX: Austin - Bergstrom International        156.0       45.0   \n",
       "1                 Memphis, TN: Memphis International        473.0       88.0   \n",
       "2  Minneapolis, MN: Minneapolis-St Paul Internati...       3124.0      515.0   \n",
       "3  Cincinnati, OH: Cincinnati/Northern Kentucky I...       1580.0      342.0   \n",
       "4       Philadelphia, PA: Philadelphia International        249.0       93.0   \n",
       "\n",
       "   carrier_ct         ...           security_ct  late_aircraft_ct  \\\n",
       "0       19.94         ...                  0.00             14.05   \n",
       "1       33.96         ...                  0.00             31.90   \n",
       "2      153.42         ...                  0.00            252.26   \n",
       "3      100.13         ...                  0.00            155.33   \n",
       "4       20.34         ...                  0.51             26.60   \n",
       "\n",
       "   arr_cancelled  arr_diverted   arr_delay  carrier_delay   weather_delay  \\\n",
       "0            3.0           1.0      2416.0         1118.0            53.0   \n",
       "1           20.0           1.0      6430.0         2579.0            27.0   \n",
       "2           91.0           6.0     35777.0        14112.0           687.0   \n",
       "3           68.0           2.0     24171.0         7559.0           620.0   \n",
       "4           22.0           0.0      6980.0         1863.0            30.0   \n",
       "\n",
       "   nas_delay  security_delay  late_aircraft_delay  \n",
       "0      398.0             0.0                847.0  \n",
       "1      802.0             0.0               3022.0  \n",
       "2     4481.0             0.0              16497.0  \n",
       "3     4629.0             0.0              11363.0  \n",
       "4     2791.0            19.0               2277.0  \n",
       "\n",
       "[5 rows x 22 columns]"
      ]
     },
     "execution_count": 14,
     "metadata": {},
     "output_type": "execute_result"
    }
   ],
   "source": [
    "flight_df.head()"
   ]
  },
  {
   "cell_type": "code",
   "execution_count": 15,
   "metadata": {},
   "outputs": [
    {
     "data": {
      "text/html": [
       "<div>\n",
       "<style scoped>\n",
       "    .dataframe tbody tr th:only-of-type {\n",
       "        vertical-align: middle;\n",
       "    }\n",
       "\n",
       "    .dataframe tbody tr th {\n",
       "        vertical-align: top;\n",
       "    }\n",
       "\n",
       "    .dataframe thead th {\n",
       "        text-align: right;\n",
       "    }\n",
       "</style>\n",
       "<table border=\"1\" class=\"dataframe\">\n",
       "  <thead>\n",
       "    <tr style=\"text-align: right;\">\n",
       "      <th></th>\n",
       "      <th>year</th>\n",
       "      <th>month</th>\n",
       "      <th>Season</th>\n",
       "      <th>carrier</th>\n",
       "      <th>carrier_name</th>\n",
       "      <th>airport</th>\n",
       "      <th>airport_name</th>\n",
       "      <th>arr_flights</th>\n",
       "      <th>arr_del15</th>\n",
       "      <th>carrier_ct</th>\n",
       "      <th>...</th>\n",
       "      <th>security_ct</th>\n",
       "      <th>late_aircraft_ct</th>\n",
       "      <th>arr_cancelled</th>\n",
       "      <th>arr_diverted</th>\n",
       "      <th>arr_delay</th>\n",
       "      <th>carrier_delay</th>\n",
       "      <th>weather_delay</th>\n",
       "      <th>nas_delay</th>\n",
       "      <th>security_delay</th>\n",
       "      <th>late_aircraft_delay</th>\n",
       "    </tr>\n",
       "  </thead>\n",
       "  <tbody>\n",
       "    <tr>\n",
       "      <th>65272</th>\n",
       "      <td>2018</td>\n",
       "      <td>4</td>\n",
       "      <td>T</td>\n",
       "      <td>9E</td>\n",
       "      <td>Endeavor Air Inc.</td>\n",
       "      <td>ABE</td>\n",
       "      <td>Allentown/Bethlehem/Easton, PA: Lehigh Valley ...</td>\n",
       "      <td>54.0</td>\n",
       "      <td>3.0</td>\n",
       "      <td>1.78</td>\n",
       "      <td>...</td>\n",
       "      <td>0.00</td>\n",
       "      <td>0.91</td>\n",
       "      <td>0.0</td>\n",
       "      <td>0.0</td>\n",
       "      <td>130.0</td>\n",
       "      <td>73.0</td>\n",
       "      <td>0.0</td>\n",
       "      <td>11.0</td>\n",
       "      <td>0.0</td>\n",
       "      <td>46.0</td>\n",
       "    </tr>\n",
       "    <tr>\n",
       "      <th>65273</th>\n",
       "      <td>2018</td>\n",
       "      <td>4</td>\n",
       "      <td>T</td>\n",
       "      <td>9E</td>\n",
       "      <td>Endeavor Air Inc.</td>\n",
       "      <td>ABY</td>\n",
       "      <td>Albany, GA: Southwest Georgia Regional</td>\n",
       "      <td>86.0</td>\n",
       "      <td>8.0</td>\n",
       "      <td>4.81</td>\n",
       "      <td>...</td>\n",
       "      <td>0.00</td>\n",
       "      <td>2.55</td>\n",
       "      <td>0.0</td>\n",
       "      <td>0.0</td>\n",
       "      <td>346.0</td>\n",
       "      <td>215.0</td>\n",
       "      <td>8.0</td>\n",
       "      <td>22.0</td>\n",
       "      <td>0.0</td>\n",
       "      <td>101.0</td>\n",
       "    </tr>\n",
       "    <tr>\n",
       "      <th>65274</th>\n",
       "      <td>2018</td>\n",
       "      <td>4</td>\n",
       "      <td>T</td>\n",
       "      <td>9E</td>\n",
       "      <td>Endeavor Air Inc.</td>\n",
       "      <td>AGS</td>\n",
       "      <td>Augusta, GA: Augusta Regional at Bush Field</td>\n",
       "      <td>108.0</td>\n",
       "      <td>18.0</td>\n",
       "      <td>4.70</td>\n",
       "      <td>...</td>\n",
       "      <td>0.00</td>\n",
       "      <td>7.26</td>\n",
       "      <td>0.0</td>\n",
       "      <td>0.0</td>\n",
       "      <td>1083.0</td>\n",
       "      <td>287.0</td>\n",
       "      <td>0.0</td>\n",
       "      <td>237.0</td>\n",
       "      <td>0.0</td>\n",
       "      <td>559.0</td>\n",
       "    </tr>\n",
       "    <tr>\n",
       "      <th>65275</th>\n",
       "      <td>2018</td>\n",
       "      <td>4</td>\n",
       "      <td>T</td>\n",
       "      <td>9E</td>\n",
       "      <td>Endeavor Air Inc.</td>\n",
       "      <td>ALB</td>\n",
       "      <td>Albany, NY: Albany International</td>\n",
       "      <td>1.0</td>\n",
       "      <td>0.0</td>\n",
       "      <td>0.00</td>\n",
       "      <td>...</td>\n",
       "      <td>0.00</td>\n",
       "      <td>0.00</td>\n",
       "      <td>0.0</td>\n",
       "      <td>0.0</td>\n",
       "      <td>0.0</td>\n",
       "      <td>0.0</td>\n",
       "      <td>0.0</td>\n",
       "      <td>0.0</td>\n",
       "      <td>0.0</td>\n",
       "      <td>0.0</td>\n",
       "    </tr>\n",
       "    <tr>\n",
       "      <th>65276</th>\n",
       "      <td>2018</td>\n",
       "      <td>4</td>\n",
       "      <td>T</td>\n",
       "      <td>9E</td>\n",
       "      <td>Endeavor Air Inc.</td>\n",
       "      <td>ATL</td>\n",
       "      <td>Atlanta, GA: Hartsfield-Jackson Atlanta Intern...</td>\n",
       "      <td>2494.0</td>\n",
       "      <td>372.0</td>\n",
       "      <td>62.43</td>\n",
       "      <td>...</td>\n",
       "      <td>0.00</td>\n",
       "      <td>181.98</td>\n",
       "      <td>10.0</td>\n",
       "      <td>1.0</td>\n",
       "      <td>24866.0</td>\n",
       "      <td>6670.0</td>\n",
       "      <td>914.0</td>\n",
       "      <td>3664.0</td>\n",
       "      <td>0.0</td>\n",
       "      <td>13618.0</td>\n",
       "    </tr>\n",
       "    <tr>\n",
       "      <th>65277</th>\n",
       "      <td>2018</td>\n",
       "      <td>4</td>\n",
       "      <td>T</td>\n",
       "      <td>9E</td>\n",
       "      <td>Endeavor Air Inc.</td>\n",
       "      <td>ATW</td>\n",
       "      <td>Appleton, WI: Appleton International</td>\n",
       "      <td>34.0</td>\n",
       "      <td>6.0</td>\n",
       "      <td>2.10</td>\n",
       "      <td>...</td>\n",
       "      <td>0.00</td>\n",
       "      <td>0.26</td>\n",
       "      <td>0.0</td>\n",
       "      <td>0.0</td>\n",
       "      <td>232.0</td>\n",
       "      <td>106.0</td>\n",
       "      <td>0.0</td>\n",
       "      <td>111.0</td>\n",
       "      <td>0.0</td>\n",
       "      <td>15.0</td>\n",
       "    </tr>\n",
       "    <tr>\n",
       "      <th>65278</th>\n",
       "      <td>2018</td>\n",
       "      <td>4</td>\n",
       "      <td>T</td>\n",
       "      <td>9E</td>\n",
       "      <td>Endeavor Air Inc.</td>\n",
       "      <td>AUS</td>\n",
       "      <td>Austin, TX: Austin - Bergstrom International</td>\n",
       "      <td>3.0</td>\n",
       "      <td>2.0</td>\n",
       "      <td>0.02</td>\n",
       "      <td>...</td>\n",
       "      <td>0.00</td>\n",
       "      <td>0.94</td>\n",
       "      <td>0.0</td>\n",
       "      <td>0.0</td>\n",
       "      <td>335.0</td>\n",
       "      <td>6.0</td>\n",
       "      <td>0.0</td>\n",
       "      <td>29.0</td>\n",
       "      <td>0.0</td>\n",
       "      <td>300.0</td>\n",
       "    </tr>\n",
       "    <tr>\n",
       "      <th>65279</th>\n",
       "      <td>2018</td>\n",
       "      <td>4</td>\n",
       "      <td>T</td>\n",
       "      <td>9E</td>\n",
       "      <td>Endeavor Air Inc.</td>\n",
       "      <td>AVL</td>\n",
       "      <td>Asheville, NC: Asheville Regional</td>\n",
       "      <td>61.0</td>\n",
       "      <td>11.0</td>\n",
       "      <td>5.02</td>\n",
       "      <td>...</td>\n",
       "      <td>0.00</td>\n",
       "      <td>1.66</td>\n",
       "      <td>0.0</td>\n",
       "      <td>0.0</td>\n",
       "      <td>582.0</td>\n",
       "      <td>383.0</td>\n",
       "      <td>93.0</td>\n",
       "      <td>72.0</td>\n",
       "      <td>0.0</td>\n",
       "      <td>34.0</td>\n",
       "    </tr>\n",
       "    <tr>\n",
       "      <th>65280</th>\n",
       "      <td>2018</td>\n",
       "      <td>4</td>\n",
       "      <td>T</td>\n",
       "      <td>9E</td>\n",
       "      <td>Endeavor Air Inc.</td>\n",
       "      <td>AVP</td>\n",
       "      <td>Scranton/Wilkes-Barre, PA: Wilkes Barre Scrant...</td>\n",
       "      <td>49.0</td>\n",
       "      <td>4.0</td>\n",
       "      <td>4.00</td>\n",
       "      <td>...</td>\n",
       "      <td>0.00</td>\n",
       "      <td>0.00</td>\n",
       "      <td>0.0</td>\n",
       "      <td>0.0</td>\n",
       "      <td>265.0</td>\n",
       "      <td>265.0</td>\n",
       "      <td>0.0</td>\n",
       "      <td>0.0</td>\n",
       "      <td>0.0</td>\n",
       "      <td>0.0</td>\n",
       "    </tr>\n",
       "    <tr>\n",
       "      <th>65281</th>\n",
       "      <td>2018</td>\n",
       "      <td>4</td>\n",
       "      <td>T</td>\n",
       "      <td>9E</td>\n",
       "      <td>Endeavor Air Inc.</td>\n",
       "      <td>BDL</td>\n",
       "      <td>Hartford, CT: Bradley International</td>\n",
       "      <td>29.0</td>\n",
       "      <td>3.0</td>\n",
       "      <td>0.09</td>\n",
       "      <td>...</td>\n",
       "      <td>0.00</td>\n",
       "      <td>2.90</td>\n",
       "      <td>1.0</td>\n",
       "      <td>0.0</td>\n",
       "      <td>303.0</td>\n",
       "      <td>12.0</td>\n",
       "      <td>0.0</td>\n",
       "      <td>2.0</td>\n",
       "      <td>0.0</td>\n",
       "      <td>289.0</td>\n",
       "    </tr>\n",
       "    <tr>\n",
       "      <th>65282</th>\n",
       "      <td>2018</td>\n",
       "      <td>4</td>\n",
       "      <td>T</td>\n",
       "      <td>9E</td>\n",
       "      <td>Endeavor Air Inc.</td>\n",
       "      <td>BGR</td>\n",
       "      <td>Bangor, ME: Bangor International</td>\n",
       "      <td>114.0</td>\n",
       "      <td>30.0</td>\n",
       "      <td>7.51</td>\n",
       "      <td>...</td>\n",
       "      <td>0.00</td>\n",
       "      <td>16.99</td>\n",
       "      <td>4.0</td>\n",
       "      <td>0.0</td>\n",
       "      <td>1791.0</td>\n",
       "      <td>527.0</td>\n",
       "      <td>20.0</td>\n",
       "      <td>217.0</td>\n",
       "      <td>0.0</td>\n",
       "      <td>1027.0</td>\n",
       "    </tr>\n",
       "    <tr>\n",
       "      <th>65283</th>\n",
       "      <td>2018</td>\n",
       "      <td>4</td>\n",
       "      <td>T</td>\n",
       "      <td>9E</td>\n",
       "      <td>Endeavor Air Inc.</td>\n",
       "      <td>BHM</td>\n",
       "      <td>Birmingham, AL: Birmingham-Shuttlesworth Inter...</td>\n",
       "      <td>1.0</td>\n",
       "      <td>0.0</td>\n",
       "      <td>0.00</td>\n",
       "      <td>...</td>\n",
       "      <td>0.00</td>\n",
       "      <td>0.00</td>\n",
       "      <td>0.0</td>\n",
       "      <td>0.0</td>\n",
       "      <td>0.0</td>\n",
       "      <td>0.0</td>\n",
       "      <td>0.0</td>\n",
       "      <td>0.0</td>\n",
       "      <td>0.0</td>\n",
       "      <td>0.0</td>\n",
       "    </tr>\n",
       "    <tr>\n",
       "      <th>65284</th>\n",
       "      <td>2018</td>\n",
       "      <td>4</td>\n",
       "      <td>T</td>\n",
       "      <td>9E</td>\n",
       "      <td>Endeavor Air Inc.</td>\n",
       "      <td>BMI</td>\n",
       "      <td>Bloomington/Normal, IL: Central Illinois Regional</td>\n",
       "      <td>54.0</td>\n",
       "      <td>7.0</td>\n",
       "      <td>1.63</td>\n",
       "      <td>...</td>\n",
       "      <td>0.00</td>\n",
       "      <td>2.40</td>\n",
       "      <td>0.0</td>\n",
       "      <td>0.0</td>\n",
       "      <td>1781.0</td>\n",
       "      <td>92.0</td>\n",
       "      <td>1497.0</td>\n",
       "      <td>70.0</td>\n",
       "      <td>0.0</td>\n",
       "      <td>122.0</td>\n",
       "    </tr>\n",
       "    <tr>\n",
       "      <th>65285</th>\n",
       "      <td>2018</td>\n",
       "      <td>4</td>\n",
       "      <td>T</td>\n",
       "      <td>9E</td>\n",
       "      <td>Endeavor Air Inc.</td>\n",
       "      <td>BNA</td>\n",
       "      <td>Nashville, TN: Nashville International</td>\n",
       "      <td>148.0</td>\n",
       "      <td>34.0</td>\n",
       "      <td>8.44</td>\n",
       "      <td>...</td>\n",
       "      <td>0.00</td>\n",
       "      <td>15.96</td>\n",
       "      <td>7.0</td>\n",
       "      <td>0.0</td>\n",
       "      <td>1993.0</td>\n",
       "      <td>393.0</td>\n",
       "      <td>3.0</td>\n",
       "      <td>501.0</td>\n",
       "      <td>0.0</td>\n",
       "      <td>1096.0</td>\n",
       "    </tr>\n",
       "    <tr>\n",
       "      <th>65286</th>\n",
       "      <td>2018</td>\n",
       "      <td>4</td>\n",
       "      <td>T</td>\n",
       "      <td>9E</td>\n",
       "      <td>Endeavor Air Inc.</td>\n",
       "      <td>BOS</td>\n",
       "      <td>Boston, MA: Logan International</td>\n",
       "      <td>567.0</td>\n",
       "      <td>128.0</td>\n",
       "      <td>23.88</td>\n",
       "      <td>...</td>\n",
       "      <td>0.00</td>\n",
       "      <td>42.96</td>\n",
       "      <td>14.0</td>\n",
       "      <td>0.0</td>\n",
       "      <td>8856.0</td>\n",
       "      <td>1401.0</td>\n",
       "      <td>342.0</td>\n",
       "      <td>3557.0</td>\n",
       "      <td>0.0</td>\n",
       "      <td>3556.0</td>\n",
       "    </tr>\n",
       "    <tr>\n",
       "      <th>65287</th>\n",
       "      <td>2018</td>\n",
       "      <td>4</td>\n",
       "      <td>T</td>\n",
       "      <td>9E</td>\n",
       "      <td>Endeavor Air Inc.</td>\n",
       "      <td>BQK</td>\n",
       "      <td>Brunswick, GA: Brunswick Golden Isles</td>\n",
       "      <td>86.0</td>\n",
       "      <td>15.0</td>\n",
       "      <td>7.84</td>\n",
       "      <td>...</td>\n",
       "      <td>0.00</td>\n",
       "      <td>1.99</td>\n",
       "      <td>1.0</td>\n",
       "      <td>0.0</td>\n",
       "      <td>1355.0</td>\n",
       "      <td>1055.0</td>\n",
       "      <td>0.0</td>\n",
       "      <td>126.0</td>\n",
       "      <td>0.0</td>\n",
       "      <td>174.0</td>\n",
       "    </tr>\n",
       "    <tr>\n",
       "      <th>65288</th>\n",
       "      <td>2018</td>\n",
       "      <td>4</td>\n",
       "      <td>T</td>\n",
       "      <td>9E</td>\n",
       "      <td>Endeavor Air Inc.</td>\n",
       "      <td>BTR</td>\n",
       "      <td>Baton Rouge, LA: Baton Rouge Metropolitan/Ryan...</td>\n",
       "      <td>117.0</td>\n",
       "      <td>20.0</td>\n",
       "      <td>7.32</td>\n",
       "      <td>...</td>\n",
       "      <td>0.00</td>\n",
       "      <td>4.33</td>\n",
       "      <td>1.0</td>\n",
       "      <td>0.0</td>\n",
       "      <td>1012.0</td>\n",
       "      <td>423.0</td>\n",
       "      <td>112.0</td>\n",
       "      <td>168.0</td>\n",
       "      <td>0.0</td>\n",
       "      <td>309.0</td>\n",
       "    </tr>\n",
       "    <tr>\n",
       "      <th>65289</th>\n",
       "      <td>2018</td>\n",
       "      <td>4</td>\n",
       "      <td>T</td>\n",
       "      <td>9E</td>\n",
       "      <td>Endeavor Air Inc.</td>\n",
       "      <td>BTV</td>\n",
       "      <td>Burlington, VT: Burlington International</td>\n",
       "      <td>232.0</td>\n",
       "      <td>35.0</td>\n",
       "      <td>8.71</td>\n",
       "      <td>...</td>\n",
       "      <td>0.00</td>\n",
       "      <td>17.74</td>\n",
       "      <td>11.0</td>\n",
       "      <td>1.0</td>\n",
       "      <td>1919.0</td>\n",
       "      <td>517.0</td>\n",
       "      <td>0.0</td>\n",
       "      <td>270.0</td>\n",
       "      <td>0.0</td>\n",
       "      <td>1132.0</td>\n",
       "    </tr>\n",
       "    <tr>\n",
       "      <th>65290</th>\n",
       "      <td>2018</td>\n",
       "      <td>4</td>\n",
       "      <td>T</td>\n",
       "      <td>9E</td>\n",
       "      <td>Endeavor Air Inc.</td>\n",
       "      <td>BUF</td>\n",
       "      <td>Buffalo, NY: Buffalo Niagara International</td>\n",
       "      <td>357.0</td>\n",
       "      <td>78.0</td>\n",
       "      <td>23.35</td>\n",
       "      <td>...</td>\n",
       "      <td>0.00</td>\n",
       "      <td>36.10</td>\n",
       "      <td>20.0</td>\n",
       "      <td>3.0</td>\n",
       "      <td>5859.0</td>\n",
       "      <td>1488.0</td>\n",
       "      <td>45.0</td>\n",
       "      <td>811.0</td>\n",
       "      <td>0.0</td>\n",
       "      <td>3515.0</td>\n",
       "    </tr>\n",
       "    <tr>\n",
       "      <th>65291</th>\n",
       "      <td>2018</td>\n",
       "      <td>4</td>\n",
       "      <td>T</td>\n",
       "      <td>9E</td>\n",
       "      <td>Endeavor Air Inc.</td>\n",
       "      <td>BWI</td>\n",
       "      <td>Baltimore, MD: Baltimore/Washington Internatio...</td>\n",
       "      <td>158.0</td>\n",
       "      <td>27.0</td>\n",
       "      <td>7.70</td>\n",
       "      <td>...</td>\n",
       "      <td>0.00</td>\n",
       "      <td>4.25</td>\n",
       "      <td>6.0</td>\n",
       "      <td>0.0</td>\n",
       "      <td>1409.0</td>\n",
       "      <td>421.0</td>\n",
       "      <td>65.0</td>\n",
       "      <td>563.0</td>\n",
       "      <td>0.0</td>\n",
       "      <td>360.0</td>\n",
       "    </tr>\n",
       "    <tr>\n",
       "      <th>65292</th>\n",
       "      <td>2018</td>\n",
       "      <td>4</td>\n",
       "      <td>T</td>\n",
       "      <td>9E</td>\n",
       "      <td>Endeavor Air Inc.</td>\n",
       "      <td>CAE</td>\n",
       "      <td>Columbia, SC: Columbia Metropolitan</td>\n",
       "      <td>93.0</td>\n",
       "      <td>22.0</td>\n",
       "      <td>8.21</td>\n",
       "      <td>...</td>\n",
       "      <td>0.00</td>\n",
       "      <td>11.89</td>\n",
       "      <td>3.0</td>\n",
       "      <td>0.0</td>\n",
       "      <td>1600.0</td>\n",
       "      <td>577.0</td>\n",
       "      <td>0.0</td>\n",
       "      <td>73.0</td>\n",
       "      <td>0.0</td>\n",
       "      <td>950.0</td>\n",
       "    </tr>\n",
       "    <tr>\n",
       "      <th>65293</th>\n",
       "      <td>2018</td>\n",
       "      <td>4</td>\n",
       "      <td>T</td>\n",
       "      <td>9E</td>\n",
       "      <td>Endeavor Air Inc.</td>\n",
       "      <td>CHA</td>\n",
       "      <td>Chattanooga, TN: Lovell Field</td>\n",
       "      <td>116.0</td>\n",
       "      <td>15.0</td>\n",
       "      <td>6.48</td>\n",
       "      <td>...</td>\n",
       "      <td>0.00</td>\n",
       "      <td>7.54</td>\n",
       "      <td>1.0</td>\n",
       "      <td>0.0</td>\n",
       "      <td>981.0</td>\n",
       "      <td>558.0</td>\n",
       "      <td>0.0</td>\n",
       "      <td>43.0</td>\n",
       "      <td>0.0</td>\n",
       "      <td>380.0</td>\n",
       "    </tr>\n",
       "    <tr>\n",
       "      <th>65294</th>\n",
       "      <td>2018</td>\n",
       "      <td>4</td>\n",
       "      <td>T</td>\n",
       "      <td>9E</td>\n",
       "      <td>Endeavor Air Inc.</td>\n",
       "      <td>CHO</td>\n",
       "      <td>Charlottesville, VA: Charlottesville Albemarle</td>\n",
       "      <td>26.0</td>\n",
       "      <td>4.0</td>\n",
       "      <td>1.00</td>\n",
       "      <td>...</td>\n",
       "      <td>0.00</td>\n",
       "      <td>2.92</td>\n",
       "      <td>2.0</td>\n",
       "      <td>0.0</td>\n",
       "      <td>356.0</td>\n",
       "      <td>142.0</td>\n",
       "      <td>0.0</td>\n",
       "      <td>5.0</td>\n",
       "      <td>0.0</td>\n",
       "      <td>209.0</td>\n",
       "    </tr>\n",
       "    <tr>\n",
       "      <th>65295</th>\n",
       "      <td>2018</td>\n",
       "      <td>4</td>\n",
       "      <td>T</td>\n",
       "      <td>9E</td>\n",
       "      <td>Endeavor Air Inc.</td>\n",
       "      <td>CHS</td>\n",
       "      <td>Charleston, SC: Charleston AFB/International</td>\n",
       "      <td>41.0</td>\n",
       "      <td>7.0</td>\n",
       "      <td>1.35</td>\n",
       "      <td>...</td>\n",
       "      <td>0.00</td>\n",
       "      <td>3.39</td>\n",
       "      <td>2.0</td>\n",
       "      <td>0.0</td>\n",
       "      <td>522.0</td>\n",
       "      <td>100.0</td>\n",
       "      <td>0.0</td>\n",
       "      <td>61.0</td>\n",
       "      <td>0.0</td>\n",
       "      <td>361.0</td>\n",
       "    </tr>\n",
       "    <tr>\n",
       "      <th>65296</th>\n",
       "      <td>2018</td>\n",
       "      <td>4</td>\n",
       "      <td>T</td>\n",
       "      <td>9E</td>\n",
       "      <td>Endeavor Air Inc.</td>\n",
       "      <td>CID</td>\n",
       "      <td>Cedar Rapids/Iowa City, IA: The Eastern Iowa</td>\n",
       "      <td>42.0</td>\n",
       "      <td>3.0</td>\n",
       "      <td>2.01</td>\n",
       "      <td>...</td>\n",
       "      <td>0.00</td>\n",
       "      <td>0.99</td>\n",
       "      <td>0.0</td>\n",
       "      <td>0.0</td>\n",
       "      <td>258.0</td>\n",
       "      <td>131.0</td>\n",
       "      <td>0.0</td>\n",
       "      <td>0.0</td>\n",
       "      <td>0.0</td>\n",
       "      <td>127.0</td>\n",
       "    </tr>\n",
       "    <tr>\n",
       "      <th>65297</th>\n",
       "      <td>2018</td>\n",
       "      <td>4</td>\n",
       "      <td>T</td>\n",
       "      <td>9E</td>\n",
       "      <td>Endeavor Air Inc.</td>\n",
       "      <td>CLE</td>\n",
       "      <td>Cleveland, OH: Cleveland-Hopkins International</td>\n",
       "      <td>236.0</td>\n",
       "      <td>42.0</td>\n",
       "      <td>14.64</td>\n",
       "      <td>...</td>\n",
       "      <td>0.00</td>\n",
       "      <td>14.73</td>\n",
       "      <td>5.0</td>\n",
       "      <td>0.0</td>\n",
       "      <td>3271.0</td>\n",
       "      <td>1147.0</td>\n",
       "      <td>1.0</td>\n",
       "      <td>700.0</td>\n",
       "      <td>0.0</td>\n",
       "      <td>1423.0</td>\n",
       "    </tr>\n",
       "    <tr>\n",
       "      <th>65298</th>\n",
       "      <td>2018</td>\n",
       "      <td>4</td>\n",
       "      <td>T</td>\n",
       "      <td>9E</td>\n",
       "      <td>Endeavor Air Inc.</td>\n",
       "      <td>CLT</td>\n",
       "      <td>Charlotte, NC: Charlotte Douglas International</td>\n",
       "      <td>304.0</td>\n",
       "      <td>52.0</td>\n",
       "      <td>12.83</td>\n",
       "      <td>...</td>\n",
       "      <td>0.00</td>\n",
       "      <td>18.99</td>\n",
       "      <td>14.0</td>\n",
       "      <td>0.0</td>\n",
       "      <td>4013.0</td>\n",
       "      <td>846.0</td>\n",
       "      <td>612.0</td>\n",
       "      <td>976.0</td>\n",
       "      <td>0.0</td>\n",
       "      <td>1579.0</td>\n",
       "    </tr>\n",
       "    <tr>\n",
       "      <th>65299</th>\n",
       "      <td>2018</td>\n",
       "      <td>4</td>\n",
       "      <td>T</td>\n",
       "      <td>9E</td>\n",
       "      <td>Endeavor Air Inc.</td>\n",
       "      <td>CMH</td>\n",
       "      <td>Columbus, OH: John Glenn Columbus International</td>\n",
       "      <td>48.0</td>\n",
       "      <td>12.0</td>\n",
       "      <td>2.19</td>\n",
       "      <td>...</td>\n",
       "      <td>0.00</td>\n",
       "      <td>7.37</td>\n",
       "      <td>2.0</td>\n",
       "      <td>0.0</td>\n",
       "      <td>823.0</td>\n",
       "      <td>151.0</td>\n",
       "      <td>0.0</td>\n",
       "      <td>107.0</td>\n",
       "      <td>0.0</td>\n",
       "      <td>565.0</td>\n",
       "    </tr>\n",
       "    <tr>\n",
       "      <th>65300</th>\n",
       "      <td>2018</td>\n",
       "      <td>4</td>\n",
       "      <td>T</td>\n",
       "      <td>9E</td>\n",
       "      <td>Endeavor Air Inc.</td>\n",
       "      <td>CSG</td>\n",
       "      <td>Columbus, GA: Columbus Airport</td>\n",
       "      <td>116.0</td>\n",
       "      <td>22.0</td>\n",
       "      <td>11.48</td>\n",
       "      <td>...</td>\n",
       "      <td>0.00</td>\n",
       "      <td>6.93</td>\n",
       "      <td>0.0</td>\n",
       "      <td>1.0</td>\n",
       "      <td>1004.0</td>\n",
       "      <td>539.0</td>\n",
       "      <td>1.0</td>\n",
       "      <td>96.0</td>\n",
       "      <td>0.0</td>\n",
       "      <td>368.0</td>\n",
       "    </tr>\n",
       "    <tr>\n",
       "      <th>65301</th>\n",
       "      <td>2018</td>\n",
       "      <td>4</td>\n",
       "      <td>T</td>\n",
       "      <td>9E</td>\n",
       "      <td>Endeavor Air Inc.</td>\n",
       "      <td>CVG</td>\n",
       "      <td>Cincinnati, OH: Cincinnati/Northern Kentucky I...</td>\n",
       "      <td>950.0</td>\n",
       "      <td>213.0</td>\n",
       "      <td>43.68</td>\n",
       "      <td>...</td>\n",
       "      <td>0.00</td>\n",
       "      <td>109.67</td>\n",
       "      <td>18.0</td>\n",
       "      <td>0.0</td>\n",
       "      <td>19420.0</td>\n",
       "      <td>5350.0</td>\n",
       "      <td>1239.0</td>\n",
       "      <td>2702.0</td>\n",
       "      <td>0.0</td>\n",
       "      <td>10129.0</td>\n",
       "    </tr>\n",
       "    <tr>\n",
       "      <th>...</th>\n",
       "      <td>...</td>\n",
       "      <td>...</td>\n",
       "      <td>...</td>\n",
       "      <td>...</td>\n",
       "      <td>...</td>\n",
       "      <td>...</td>\n",
       "      <td>...</td>\n",
       "      <td>...</td>\n",
       "      <td>...</td>\n",
       "      <td>...</td>\n",
       "      <td>...</td>\n",
       "      <td>...</td>\n",
       "      <td>...</td>\n",
       "      <td>...</td>\n",
       "      <td>...</td>\n",
       "      <td>...</td>\n",
       "      <td>...</td>\n",
       "      <td>...</td>\n",
       "      <td>...</td>\n",
       "      <td>...</td>\n",
       "      <td>...</td>\n",
       "    </tr>\n",
       "    <tr>\n",
       "      <th>70272</th>\n",
       "      <td>2018</td>\n",
       "      <td>6</td>\n",
       "      <td>T</td>\n",
       "      <td>YX</td>\n",
       "      <td>Republic Airline</td>\n",
       "      <td>MSY</td>\n",
       "      <td>New Orleans, LA: Louis Armstrong New Orleans I...</td>\n",
       "      <td>263.0</td>\n",
       "      <td>48.0</td>\n",
       "      <td>10.15</td>\n",
       "      <td>...</td>\n",
       "      <td>0.00</td>\n",
       "      <td>15.96</td>\n",
       "      <td>2.0</td>\n",
       "      <td>1.0</td>\n",
       "      <td>2566.0</td>\n",
       "      <td>550.0</td>\n",
       "      <td>93.0</td>\n",
       "      <td>825.0</td>\n",
       "      <td>0.0</td>\n",
       "      <td>1098.0</td>\n",
       "    </tr>\n",
       "    <tr>\n",
       "      <th>70273</th>\n",
       "      <td>2018</td>\n",
       "      <td>6</td>\n",
       "      <td>T</td>\n",
       "      <td>YX</td>\n",
       "      <td>Republic Airline</td>\n",
       "      <td>MVY</td>\n",
       "      <td>Martha's Vineyard, MA: Martha's Vineyard Airport</td>\n",
       "      <td>17.0</td>\n",
       "      <td>3.0</td>\n",
       "      <td>1.70</td>\n",
       "      <td>...</td>\n",
       "      <td>0.00</td>\n",
       "      <td>0.30</td>\n",
       "      <td>0.0</td>\n",
       "      <td>0.0</td>\n",
       "      <td>126.0</td>\n",
       "      <td>85.0</td>\n",
       "      <td>19.0</td>\n",
       "      <td>0.0</td>\n",
       "      <td>0.0</td>\n",
       "      <td>22.0</td>\n",
       "    </tr>\n",
       "    <tr>\n",
       "      <th>70274</th>\n",
       "      <td>2018</td>\n",
       "      <td>6</td>\n",
       "      <td>T</td>\n",
       "      <td>YX</td>\n",
       "      <td>Republic Airline</td>\n",
       "      <td>MYR</td>\n",
       "      <td>Myrtle Beach, SC: Myrtle Beach International</td>\n",
       "      <td>54.0</td>\n",
       "      <td>8.0</td>\n",
       "      <td>1.54</td>\n",
       "      <td>...</td>\n",
       "      <td>0.00</td>\n",
       "      <td>4.67</td>\n",
       "      <td>0.0</td>\n",
       "      <td>0.0</td>\n",
       "      <td>559.0</td>\n",
       "      <td>61.0</td>\n",
       "      <td>0.0</td>\n",
       "      <td>101.0</td>\n",
       "      <td>0.0</td>\n",
       "      <td>397.0</td>\n",
       "    </tr>\n",
       "    <tr>\n",
       "      <th>70275</th>\n",
       "      <td>2018</td>\n",
       "      <td>6</td>\n",
       "      <td>T</td>\n",
       "      <td>YX</td>\n",
       "      <td>Republic Airline</td>\n",
       "      <td>OKC</td>\n",
       "      <td>Oklahoma City, OK: Will Rogers World</td>\n",
       "      <td>138.0</td>\n",
       "      <td>41.0</td>\n",
       "      <td>7.94</td>\n",
       "      <td>...</td>\n",
       "      <td>0.00</td>\n",
       "      <td>20.44</td>\n",
       "      <td>5.0</td>\n",
       "      <td>0.0</td>\n",
       "      <td>2989.0</td>\n",
       "      <td>513.0</td>\n",
       "      <td>22.0</td>\n",
       "      <td>391.0</td>\n",
       "      <td>0.0</td>\n",
       "      <td>2063.0</td>\n",
       "    </tr>\n",
       "    <tr>\n",
       "      <th>70276</th>\n",
       "      <td>2018</td>\n",
       "      <td>6</td>\n",
       "      <td>T</td>\n",
       "      <td>YX</td>\n",
       "      <td>Republic Airline</td>\n",
       "      <td>OMA</td>\n",
       "      <td>Omaha, NE: Eppley Airfield</td>\n",
       "      <td>260.0</td>\n",
       "      <td>54.0</td>\n",
       "      <td>14.35</td>\n",
       "      <td>...</td>\n",
       "      <td>0.00</td>\n",
       "      <td>17.57</td>\n",
       "      <td>2.0</td>\n",
       "      <td>2.0</td>\n",
       "      <td>3092.0</td>\n",
       "      <td>1058.0</td>\n",
       "      <td>132.0</td>\n",
       "      <td>822.0</td>\n",
       "      <td>0.0</td>\n",
       "      <td>1080.0</td>\n",
       "    </tr>\n",
       "    <tr>\n",
       "      <th>70277</th>\n",
       "      <td>2018</td>\n",
       "      <td>6</td>\n",
       "      <td>T</td>\n",
       "      <td>YX</td>\n",
       "      <td>Republic Airline</td>\n",
       "      <td>ORD</td>\n",
       "      <td>Chicago, IL: Chicago O'Hare International</td>\n",
       "      <td>1647.0</td>\n",
       "      <td>401.0</td>\n",
       "      <td>58.01</td>\n",
       "      <td>...</td>\n",
       "      <td>1.00</td>\n",
       "      <td>122.03</td>\n",
       "      <td>71.0</td>\n",
       "      <td>5.0</td>\n",
       "      <td>33641.0</td>\n",
       "      <td>6523.0</td>\n",
       "      <td>953.0</td>\n",
       "      <td>15843.0</td>\n",
       "      <td>16.0</td>\n",
       "      <td>10306.0</td>\n",
       "    </tr>\n",
       "    <tr>\n",
       "      <th>70278</th>\n",
       "      <td>2018</td>\n",
       "      <td>6</td>\n",
       "      <td>T</td>\n",
       "      <td>YX</td>\n",
       "      <td>Republic Airline</td>\n",
       "      <td>ORF</td>\n",
       "      <td>Norfolk, VA: Norfolk International</td>\n",
       "      <td>96.0</td>\n",
       "      <td>22.0</td>\n",
       "      <td>8.38</td>\n",
       "      <td>...</td>\n",
       "      <td>0.00</td>\n",
       "      <td>9.54</td>\n",
       "      <td>2.0</td>\n",
       "      <td>0.0</td>\n",
       "      <td>1064.0</td>\n",
       "      <td>430.0</td>\n",
       "      <td>40.0</td>\n",
       "      <td>101.0</td>\n",
       "      <td>0.0</td>\n",
       "      <td>493.0</td>\n",
       "    </tr>\n",
       "    <tr>\n",
       "      <th>70279</th>\n",
       "      <td>2018</td>\n",
       "      <td>6</td>\n",
       "      <td>T</td>\n",
       "      <td>YX</td>\n",
       "      <td>Republic Airline</td>\n",
       "      <td>PBI</td>\n",
       "      <td>West Palm Beach/Palm Beach, FL: Palm Beach Int...</td>\n",
       "      <td>31.0</td>\n",
       "      <td>13.0</td>\n",
       "      <td>0.74</td>\n",
       "      <td>...</td>\n",
       "      <td>0.00</td>\n",
       "      <td>5.41</td>\n",
       "      <td>0.0</td>\n",
       "      <td>0.0</td>\n",
       "      <td>1219.0</td>\n",
       "      <td>40.0</td>\n",
       "      <td>145.0</td>\n",
       "      <td>584.0</td>\n",
       "      <td>0.0</td>\n",
       "      <td>450.0</td>\n",
       "    </tr>\n",
       "    <tr>\n",
       "      <th>70280</th>\n",
       "      <td>2018</td>\n",
       "      <td>6</td>\n",
       "      <td>T</td>\n",
       "      <td>YX</td>\n",
       "      <td>Republic Airline</td>\n",
       "      <td>PHL</td>\n",
       "      <td>Philadelphia, PA: Philadelphia International</td>\n",
       "      <td>1813.0</td>\n",
       "      <td>316.0</td>\n",
       "      <td>61.27</td>\n",
       "      <td>...</td>\n",
       "      <td>0.24</td>\n",
       "      <td>103.29</td>\n",
       "      <td>32.0</td>\n",
       "      <td>1.0</td>\n",
       "      <td>17924.0</td>\n",
       "      <td>3670.0</td>\n",
       "      <td>1295.0</td>\n",
       "      <td>5908.0</td>\n",
       "      <td>10.0</td>\n",
       "      <td>7041.0</td>\n",
       "    </tr>\n",
       "    <tr>\n",
       "      <th>70281</th>\n",
       "      <td>2018</td>\n",
       "      <td>6</td>\n",
       "      <td>T</td>\n",
       "      <td>YX</td>\n",
       "      <td>Republic Airline</td>\n",
       "      <td>PIT</td>\n",
       "      <td>Pittsburgh, PA: Pittsburgh International</td>\n",
       "      <td>716.0</td>\n",
       "      <td>142.0</td>\n",
       "      <td>37.07</td>\n",
       "      <td>...</td>\n",
       "      <td>0.00</td>\n",
       "      <td>62.16</td>\n",
       "      <td>14.0</td>\n",
       "      <td>0.0</td>\n",
       "      <td>9428.0</td>\n",
       "      <td>2315.0</td>\n",
       "      <td>1223.0</td>\n",
       "      <td>1484.0</td>\n",
       "      <td>0.0</td>\n",
       "      <td>4406.0</td>\n",
       "    </tr>\n",
       "    <tr>\n",
       "      <th>70282</th>\n",
       "      <td>2018</td>\n",
       "      <td>6</td>\n",
       "      <td>T</td>\n",
       "      <td>YX</td>\n",
       "      <td>Republic Airline</td>\n",
       "      <td>PNS</td>\n",
       "      <td>Pensacola, FL: Pensacola International</td>\n",
       "      <td>78.0</td>\n",
       "      <td>16.0</td>\n",
       "      <td>2.30</td>\n",
       "      <td>...</td>\n",
       "      <td>0.00</td>\n",
       "      <td>7.36</td>\n",
       "      <td>1.0</td>\n",
       "      <td>1.0</td>\n",
       "      <td>784.0</td>\n",
       "      <td>92.0</td>\n",
       "      <td>0.0</td>\n",
       "      <td>246.0</td>\n",
       "      <td>0.0</td>\n",
       "      <td>446.0</td>\n",
       "    </tr>\n",
       "    <tr>\n",
       "      <th>70283</th>\n",
       "      <td>2018</td>\n",
       "      <td>6</td>\n",
       "      <td>T</td>\n",
       "      <td>YX</td>\n",
       "      <td>Republic Airline</td>\n",
       "      <td>PVD</td>\n",
       "      <td>Providence, RI: Theodore Francis Green State</td>\n",
       "      <td>175.0</td>\n",
       "      <td>31.0</td>\n",
       "      <td>6.83</td>\n",
       "      <td>...</td>\n",
       "      <td>0.09</td>\n",
       "      <td>14.95</td>\n",
       "      <td>4.0</td>\n",
       "      <td>0.0</td>\n",
       "      <td>1511.0</td>\n",
       "      <td>240.0</td>\n",
       "      <td>3.0</td>\n",
       "      <td>255.0</td>\n",
       "      <td>8.0</td>\n",
       "      <td>1005.0</td>\n",
       "    </tr>\n",
       "    <tr>\n",
       "      <th>70284</th>\n",
       "      <td>2018</td>\n",
       "      <td>6</td>\n",
       "      <td>T</td>\n",
       "      <td>YX</td>\n",
       "      <td>Republic Airline</td>\n",
       "      <td>PWM</td>\n",
       "      <td>Portland, ME: Portland International Jetport</td>\n",
       "      <td>117.0</td>\n",
       "      <td>13.0</td>\n",
       "      <td>5.47</td>\n",
       "      <td>...</td>\n",
       "      <td>0.00</td>\n",
       "      <td>5.49</td>\n",
       "      <td>2.0</td>\n",
       "      <td>0.0</td>\n",
       "      <td>621.0</td>\n",
       "      <td>224.0</td>\n",
       "      <td>0.0</td>\n",
       "      <td>56.0</td>\n",
       "      <td>0.0</td>\n",
       "      <td>341.0</td>\n",
       "    </tr>\n",
       "    <tr>\n",
       "      <th>70285</th>\n",
       "      <td>2018</td>\n",
       "      <td>6</td>\n",
       "      <td>T</td>\n",
       "      <td>YX</td>\n",
       "      <td>Republic Airline</td>\n",
       "      <td>RAP</td>\n",
       "      <td>Rapid City, SD: Rapid City Regional</td>\n",
       "      <td>3.0</td>\n",
       "      <td>1.0</td>\n",
       "      <td>1.00</td>\n",
       "      <td>...</td>\n",
       "      <td>0.00</td>\n",
       "      <td>0.00</td>\n",
       "      <td>0.0</td>\n",
       "      <td>0.0</td>\n",
       "      <td>20.0</td>\n",
       "      <td>20.0</td>\n",
       "      <td>0.0</td>\n",
       "      <td>0.0</td>\n",
       "      <td>0.0</td>\n",
       "      <td>0.0</td>\n",
       "    </tr>\n",
       "    <tr>\n",
       "      <th>70286</th>\n",
       "      <td>2018</td>\n",
       "      <td>6</td>\n",
       "      <td>T</td>\n",
       "      <td>YX</td>\n",
       "      <td>Republic Airline</td>\n",
       "      <td>RDU</td>\n",
       "      <td>Raleigh/Durham, NC: Raleigh-Durham International</td>\n",
       "      <td>529.0</td>\n",
       "      <td>81.0</td>\n",
       "      <td>29.65</td>\n",
       "      <td>...</td>\n",
       "      <td>0.00</td>\n",
       "      <td>33.50</td>\n",
       "      <td>10.0</td>\n",
       "      <td>0.0</td>\n",
       "      <td>4379.0</td>\n",
       "      <td>1765.0</td>\n",
       "      <td>30.0</td>\n",
       "      <td>833.0</td>\n",
       "      <td>0.0</td>\n",
       "      <td>1751.0</td>\n",
       "    </tr>\n",
       "    <tr>\n",
       "      <th>70287</th>\n",
       "      <td>2018</td>\n",
       "      <td>6</td>\n",
       "      <td>T</td>\n",
       "      <td>YX</td>\n",
       "      <td>Republic Airline</td>\n",
       "      <td>RIC</td>\n",
       "      <td>Richmond, VA: Richmond International</td>\n",
       "      <td>12.0</td>\n",
       "      <td>2.0</td>\n",
       "      <td>0.42</td>\n",
       "      <td>...</td>\n",
       "      <td>0.00</td>\n",
       "      <td>0.95</td>\n",
       "      <td>0.0</td>\n",
       "      <td>0.0</td>\n",
       "      <td>363.0</td>\n",
       "      <td>29.0</td>\n",
       "      <td>0.0</td>\n",
       "      <td>68.0</td>\n",
       "      <td>0.0</td>\n",
       "      <td>266.0</td>\n",
       "    </tr>\n",
       "    <tr>\n",
       "      <th>70288</th>\n",
       "      <td>2018</td>\n",
       "      <td>6</td>\n",
       "      <td>T</td>\n",
       "      <td>YX</td>\n",
       "      <td>Republic Airline</td>\n",
       "      <td>ROC</td>\n",
       "      <td>Rochester, NY: Greater Rochester International</td>\n",
       "      <td>145.0</td>\n",
       "      <td>31.0</td>\n",
       "      <td>10.61</td>\n",
       "      <td>...</td>\n",
       "      <td>0.00</td>\n",
       "      <td>11.96</td>\n",
       "      <td>2.0</td>\n",
       "      <td>1.0</td>\n",
       "      <td>1329.0</td>\n",
       "      <td>578.0</td>\n",
       "      <td>0.0</td>\n",
       "      <td>278.0</td>\n",
       "      <td>0.0</td>\n",
       "      <td>473.0</td>\n",
       "    </tr>\n",
       "    <tr>\n",
       "      <th>70289</th>\n",
       "      <td>2018</td>\n",
       "      <td>6</td>\n",
       "      <td>T</td>\n",
       "      <td>YX</td>\n",
       "      <td>Republic Airline</td>\n",
       "      <td>RSW</td>\n",
       "      <td>Fort Myers, FL: Southwest Florida International</td>\n",
       "      <td>23.0</td>\n",
       "      <td>4.0</td>\n",
       "      <td>1.00</td>\n",
       "      <td>...</td>\n",
       "      <td>0.00</td>\n",
       "      <td>0.00</td>\n",
       "      <td>0.0</td>\n",
       "      <td>0.0</td>\n",
       "      <td>102.0</td>\n",
       "      <td>23.0</td>\n",
       "      <td>0.0</td>\n",
       "      <td>79.0</td>\n",
       "      <td>0.0</td>\n",
       "      <td>0.0</td>\n",
       "    </tr>\n",
       "    <tr>\n",
       "      <th>70290</th>\n",
       "      <td>2018</td>\n",
       "      <td>6</td>\n",
       "      <td>T</td>\n",
       "      <td>YX</td>\n",
       "      <td>Republic Airline</td>\n",
       "      <td>SAT</td>\n",
       "      <td>San Antonio, TX: San Antonio International</td>\n",
       "      <td>29.0</td>\n",
       "      <td>9.0</td>\n",
       "      <td>3.00</td>\n",
       "      <td>...</td>\n",
       "      <td>0.00</td>\n",
       "      <td>1.94</td>\n",
       "      <td>0.0</td>\n",
       "      <td>0.0</td>\n",
       "      <td>462.0</td>\n",
       "      <td>100.0</td>\n",
       "      <td>21.0</td>\n",
       "      <td>173.0</td>\n",
       "      <td>0.0</td>\n",
       "      <td>168.0</td>\n",
       "    </tr>\n",
       "    <tr>\n",
       "      <th>70291</th>\n",
       "      <td>2018</td>\n",
       "      <td>6</td>\n",
       "      <td>T</td>\n",
       "      <td>YX</td>\n",
       "      <td>Republic Airline</td>\n",
       "      <td>SAV</td>\n",
       "      <td>Savannah, GA: Savannah/Hilton Head International</td>\n",
       "      <td>70.0</td>\n",
       "      <td>16.0</td>\n",
       "      <td>7.27</td>\n",
       "      <td>...</td>\n",
       "      <td>0.00</td>\n",
       "      <td>5.01</td>\n",
       "      <td>0.0</td>\n",
       "      <td>1.0</td>\n",
       "      <td>1331.0</td>\n",
       "      <td>615.0</td>\n",
       "      <td>0.0</td>\n",
       "      <td>234.0</td>\n",
       "      <td>0.0</td>\n",
       "      <td>482.0</td>\n",
       "    </tr>\n",
       "    <tr>\n",
       "      <th>70292</th>\n",
       "      <td>2018</td>\n",
       "      <td>6</td>\n",
       "      <td>T</td>\n",
       "      <td>YX</td>\n",
       "      <td>Republic Airline</td>\n",
       "      <td>SDF</td>\n",
       "      <td>Louisville, KY: Louisville International-Stand...</td>\n",
       "      <td>387.0</td>\n",
       "      <td>91.0</td>\n",
       "      <td>23.16</td>\n",
       "      <td>...</td>\n",
       "      <td>0.00</td>\n",
       "      <td>40.57</td>\n",
       "      <td>4.0</td>\n",
       "      <td>0.0</td>\n",
       "      <td>5910.0</td>\n",
       "      <td>1461.0</td>\n",
       "      <td>491.0</td>\n",
       "      <td>765.0</td>\n",
       "      <td>0.0</td>\n",
       "      <td>3193.0</td>\n",
       "    </tr>\n",
       "    <tr>\n",
       "      <th>70293</th>\n",
       "      <td>2018</td>\n",
       "      <td>6</td>\n",
       "      <td>T</td>\n",
       "      <td>YX</td>\n",
       "      <td>Republic Airline</td>\n",
       "      <td>SLC</td>\n",
       "      <td>Salt Lake City, UT: Salt Lake City International</td>\n",
       "      <td>49.0</td>\n",
       "      <td>15.0</td>\n",
       "      <td>6.15</td>\n",
       "      <td>...</td>\n",
       "      <td>0.00</td>\n",
       "      <td>6.01</td>\n",
       "      <td>2.0</td>\n",
       "      <td>0.0</td>\n",
       "      <td>1599.0</td>\n",
       "      <td>777.0</td>\n",
       "      <td>72.0</td>\n",
       "      <td>95.0</td>\n",
       "      <td>0.0</td>\n",
       "      <td>655.0</td>\n",
       "    </tr>\n",
       "    <tr>\n",
       "      <th>70294</th>\n",
       "      <td>2018</td>\n",
       "      <td>6</td>\n",
       "      <td>T</td>\n",
       "      <td>YX</td>\n",
       "      <td>Republic Airline</td>\n",
       "      <td>SRQ</td>\n",
       "      <td>Sarasota/Bradenton, FL: Sarasota/Bradenton Int...</td>\n",
       "      <td>78.0</td>\n",
       "      <td>12.0</td>\n",
       "      <td>3.06</td>\n",
       "      <td>...</td>\n",
       "      <td>0.00</td>\n",
       "      <td>1.56</td>\n",
       "      <td>1.0</td>\n",
       "      <td>0.0</td>\n",
       "      <td>653.0</td>\n",
       "      <td>163.0</td>\n",
       "      <td>28.0</td>\n",
       "      <td>261.0</td>\n",
       "      <td>0.0</td>\n",
       "      <td>201.0</td>\n",
       "    </tr>\n",
       "    <tr>\n",
       "      <th>70295</th>\n",
       "      <td>2018</td>\n",
       "      <td>6</td>\n",
       "      <td>T</td>\n",
       "      <td>YX</td>\n",
       "      <td>Republic Airline</td>\n",
       "      <td>STL</td>\n",
       "      <td>St. Louis, MO: St Louis Lambert International</td>\n",
       "      <td>311.0</td>\n",
       "      <td>44.0</td>\n",
       "      <td>10.26</td>\n",
       "      <td>...</td>\n",
       "      <td>0.00</td>\n",
       "      <td>23.70</td>\n",
       "      <td>7.0</td>\n",
       "      <td>4.0</td>\n",
       "      <td>2487.0</td>\n",
       "      <td>464.0</td>\n",
       "      <td>101.0</td>\n",
       "      <td>580.0</td>\n",
       "      <td>0.0</td>\n",
       "      <td>1342.0</td>\n",
       "    </tr>\n",
       "    <tr>\n",
       "      <th>70296</th>\n",
       "      <td>2018</td>\n",
       "      <td>6</td>\n",
       "      <td>T</td>\n",
       "      <td>YX</td>\n",
       "      <td>Republic Airline</td>\n",
       "      <td>SYR</td>\n",
       "      <td>Syracuse, NY: Syracuse Hancock International</td>\n",
       "      <td>174.0</td>\n",
       "      <td>39.0</td>\n",
       "      <td>9.60</td>\n",
       "      <td>...</td>\n",
       "      <td>0.00</td>\n",
       "      <td>17.23</td>\n",
       "      <td>6.0</td>\n",
       "      <td>0.0</td>\n",
       "      <td>2371.0</td>\n",
       "      <td>514.0</td>\n",
       "      <td>51.0</td>\n",
       "      <td>447.0</td>\n",
       "      <td>0.0</td>\n",
       "      <td>1359.0</td>\n",
       "    </tr>\n",
       "    <tr>\n",
       "      <th>70297</th>\n",
       "      <td>2018</td>\n",
       "      <td>6</td>\n",
       "      <td>T</td>\n",
       "      <td>YX</td>\n",
       "      <td>Republic Airline</td>\n",
       "      <td>TPA</td>\n",
       "      <td>Tampa, FL: Tampa International</td>\n",
       "      <td>20.0</td>\n",
       "      <td>1.0</td>\n",
       "      <td>0.00</td>\n",
       "      <td>...</td>\n",
       "      <td>0.00</td>\n",
       "      <td>0.00</td>\n",
       "      <td>0.0</td>\n",
       "      <td>0.0</td>\n",
       "      <td>65.0</td>\n",
       "      <td>0.0</td>\n",
       "      <td>65.0</td>\n",
       "      <td>0.0</td>\n",
       "      <td>0.0</td>\n",
       "      <td>0.0</td>\n",
       "    </tr>\n",
       "    <tr>\n",
       "      <th>70298</th>\n",
       "      <td>2018</td>\n",
       "      <td>6</td>\n",
       "      <td>T</td>\n",
       "      <td>YX</td>\n",
       "      <td>Republic Airline</td>\n",
       "      <td>TUL</td>\n",
       "      <td>Tulsa, OK: Tulsa International</td>\n",
       "      <td>10.0</td>\n",
       "      <td>2.0</td>\n",
       "      <td>1.00</td>\n",
       "      <td>...</td>\n",
       "      <td>0.00</td>\n",
       "      <td>0.00</td>\n",
       "      <td>0.0</td>\n",
       "      <td>0.0</td>\n",
       "      <td>87.0</td>\n",
       "      <td>66.0</td>\n",
       "      <td>21.0</td>\n",
       "      <td>0.0</td>\n",
       "      <td>0.0</td>\n",
       "      <td>0.0</td>\n",
       "    </tr>\n",
       "    <tr>\n",
       "      <th>70299</th>\n",
       "      <td>2018</td>\n",
       "      <td>6</td>\n",
       "      <td>T</td>\n",
       "      <td>YX</td>\n",
       "      <td>Republic Airline</td>\n",
       "      <td>TVC</td>\n",
       "      <td>Traverse City, MI: Cherry Capital</td>\n",
       "      <td>6.0</td>\n",
       "      <td>2.0</td>\n",
       "      <td>1.66</td>\n",
       "      <td>...</td>\n",
       "      <td>0.00</td>\n",
       "      <td>0.00</td>\n",
       "      <td>0.0</td>\n",
       "      <td>0.0</td>\n",
       "      <td>106.0</td>\n",
       "      <td>88.0</td>\n",
       "      <td>0.0</td>\n",
       "      <td>18.0</td>\n",
       "      <td>0.0</td>\n",
       "      <td>0.0</td>\n",
       "    </tr>\n",
       "    <tr>\n",
       "      <th>70300</th>\n",
       "      <td>2018</td>\n",
       "      <td>6</td>\n",
       "      <td>T</td>\n",
       "      <td>YX</td>\n",
       "      <td>Republic Airline</td>\n",
       "      <td>VPS</td>\n",
       "      <td>Valparaiso, FL: Eglin AFB Destin Fort Walton B...</td>\n",
       "      <td>30.0</td>\n",
       "      <td>3.0</td>\n",
       "      <td>0.00</td>\n",
       "      <td>...</td>\n",
       "      <td>0.00</td>\n",
       "      <td>0.64</td>\n",
       "      <td>1.0</td>\n",
       "      <td>0.0</td>\n",
       "      <td>80.0</td>\n",
       "      <td>0.0</td>\n",
       "      <td>0.0</td>\n",
       "      <td>50.0</td>\n",
       "      <td>0.0</td>\n",
       "      <td>30.0</td>\n",
       "    </tr>\n",
       "    <tr>\n",
       "      <th>70301</th>\n",
       "      <td>2018</td>\n",
       "      <td>6</td>\n",
       "      <td>T</td>\n",
       "      <td>YX</td>\n",
       "      <td>Republic Airline</td>\n",
       "      <td>XNA</td>\n",
       "      <td>Fayetteville, AR: Northwest Arkansas Regional</td>\n",
       "      <td>134.0</td>\n",
       "      <td>31.0</td>\n",
       "      <td>8.06</td>\n",
       "      <td>...</td>\n",
       "      <td>0.00</td>\n",
       "      <td>8.68</td>\n",
       "      <td>1.0</td>\n",
       "      <td>0.0</td>\n",
       "      <td>3863.0</td>\n",
       "      <td>1205.0</td>\n",
       "      <td>1655.0</td>\n",
       "      <td>357.0</td>\n",
       "      <td>0.0</td>\n",
       "      <td>646.0</td>\n",
       "    </tr>\n",
       "  </tbody>\n",
       "</table>\n",
       "<p>5030 rows × 22 columns</p>\n",
       "</div>"
      ],
      "text/plain": [
       "       year   month Season carrier       carrier_name airport  \\\n",
       "65272  2018       4      T      9E  Endeavor Air Inc.     ABE   \n",
       "65273  2018       4      T      9E  Endeavor Air Inc.     ABY   \n",
       "65274  2018       4      T      9E  Endeavor Air Inc.     AGS   \n",
       "65275  2018       4      T      9E  Endeavor Air Inc.     ALB   \n",
       "65276  2018       4      T      9E  Endeavor Air Inc.     ATL   \n",
       "65277  2018       4      T      9E  Endeavor Air Inc.     ATW   \n",
       "65278  2018       4      T      9E  Endeavor Air Inc.     AUS   \n",
       "65279  2018       4      T      9E  Endeavor Air Inc.     AVL   \n",
       "65280  2018       4      T      9E  Endeavor Air Inc.     AVP   \n",
       "65281  2018       4      T      9E  Endeavor Air Inc.     BDL   \n",
       "65282  2018       4      T      9E  Endeavor Air Inc.     BGR   \n",
       "65283  2018       4      T      9E  Endeavor Air Inc.     BHM   \n",
       "65284  2018       4      T      9E  Endeavor Air Inc.     BMI   \n",
       "65285  2018       4      T      9E  Endeavor Air Inc.     BNA   \n",
       "65286  2018       4      T      9E  Endeavor Air Inc.     BOS   \n",
       "65287  2018       4      T      9E  Endeavor Air Inc.     BQK   \n",
       "65288  2018       4      T      9E  Endeavor Air Inc.     BTR   \n",
       "65289  2018       4      T      9E  Endeavor Air Inc.     BTV   \n",
       "65290  2018       4      T      9E  Endeavor Air Inc.     BUF   \n",
       "65291  2018       4      T      9E  Endeavor Air Inc.     BWI   \n",
       "65292  2018       4      T      9E  Endeavor Air Inc.     CAE   \n",
       "65293  2018       4      T      9E  Endeavor Air Inc.     CHA   \n",
       "65294  2018       4      T      9E  Endeavor Air Inc.     CHO   \n",
       "65295  2018       4      T      9E  Endeavor Air Inc.     CHS   \n",
       "65296  2018       4      T      9E  Endeavor Air Inc.     CID   \n",
       "65297  2018       4      T      9E  Endeavor Air Inc.     CLE   \n",
       "65298  2018       4      T      9E  Endeavor Air Inc.     CLT   \n",
       "65299  2018       4      T      9E  Endeavor Air Inc.     CMH   \n",
       "65300  2018       4      T      9E  Endeavor Air Inc.     CSG   \n",
       "65301  2018       4      T      9E  Endeavor Air Inc.     CVG   \n",
       "...     ...     ...    ...     ...                ...     ...   \n",
       "70272  2018       6      T      YX   Republic Airline     MSY   \n",
       "70273  2018       6      T      YX   Republic Airline     MVY   \n",
       "70274  2018       6      T      YX   Republic Airline     MYR   \n",
       "70275  2018       6      T      YX   Republic Airline     OKC   \n",
       "70276  2018       6      T      YX   Republic Airline     OMA   \n",
       "70277  2018       6      T      YX   Republic Airline     ORD   \n",
       "70278  2018       6      T      YX   Republic Airline     ORF   \n",
       "70279  2018       6      T      YX   Republic Airline     PBI   \n",
       "70280  2018       6      T      YX   Republic Airline     PHL   \n",
       "70281  2018       6      T      YX   Republic Airline     PIT   \n",
       "70282  2018       6      T      YX   Republic Airline     PNS   \n",
       "70283  2018       6      T      YX   Republic Airline     PVD   \n",
       "70284  2018       6      T      YX   Republic Airline     PWM   \n",
       "70285  2018       6      T      YX   Republic Airline     RAP   \n",
       "70286  2018       6      T      YX   Republic Airline     RDU   \n",
       "70287  2018       6      T      YX   Republic Airline     RIC   \n",
       "70288  2018       6      T      YX   Republic Airline     ROC   \n",
       "70289  2018       6      T      YX   Republic Airline     RSW   \n",
       "70290  2018       6      T      YX   Republic Airline     SAT   \n",
       "70291  2018       6      T      YX   Republic Airline     SAV   \n",
       "70292  2018       6      T      YX   Republic Airline     SDF   \n",
       "70293  2018       6      T      YX   Republic Airline     SLC   \n",
       "70294  2018       6      T      YX   Republic Airline     SRQ   \n",
       "70295  2018       6      T      YX   Republic Airline     STL   \n",
       "70296  2018       6      T      YX   Republic Airline     SYR   \n",
       "70297  2018       6      T      YX   Republic Airline     TPA   \n",
       "70298  2018       6      T      YX   Republic Airline     TUL   \n",
       "70299  2018       6      T      YX   Republic Airline     TVC   \n",
       "70300  2018       6      T      YX   Republic Airline     VPS   \n",
       "70301  2018       6      T      YX   Republic Airline     XNA   \n",
       "\n",
       "                                            airport_name  arr_flights  \\\n",
       "65272  Allentown/Bethlehem/Easton, PA: Lehigh Valley ...         54.0   \n",
       "65273             Albany, GA: Southwest Georgia Regional         86.0   \n",
       "65274        Augusta, GA: Augusta Regional at Bush Field        108.0   \n",
       "65275                   Albany, NY: Albany International          1.0   \n",
       "65276  Atlanta, GA: Hartsfield-Jackson Atlanta Intern...       2494.0   \n",
       "65277               Appleton, WI: Appleton International         34.0   \n",
       "65278       Austin, TX: Austin - Bergstrom International          3.0   \n",
       "65279                  Asheville, NC: Asheville Regional         61.0   \n",
       "65280  Scranton/Wilkes-Barre, PA: Wilkes Barre Scrant...         49.0   \n",
       "65281                Hartford, CT: Bradley International         29.0   \n",
       "65282                   Bangor, ME: Bangor International        114.0   \n",
       "65283  Birmingham, AL: Birmingham-Shuttlesworth Inter...          1.0   \n",
       "65284  Bloomington/Normal, IL: Central Illinois Regional         54.0   \n",
       "65285             Nashville, TN: Nashville International        148.0   \n",
       "65286                    Boston, MA: Logan International        567.0   \n",
       "65287              Brunswick, GA: Brunswick Golden Isles         86.0   \n",
       "65288  Baton Rouge, LA: Baton Rouge Metropolitan/Ryan...        117.0   \n",
       "65289           Burlington, VT: Burlington International        232.0   \n",
       "65290         Buffalo, NY: Buffalo Niagara International        357.0   \n",
       "65291  Baltimore, MD: Baltimore/Washington Internatio...        158.0   \n",
       "65292                Columbia, SC: Columbia Metropolitan         93.0   \n",
       "65293                      Chattanooga, TN: Lovell Field        116.0   \n",
       "65294     Charlottesville, VA: Charlottesville Albemarle         26.0   \n",
       "65295       Charleston, SC: Charleston AFB/International         41.0   \n",
       "65296       Cedar Rapids/Iowa City, IA: The Eastern Iowa         42.0   \n",
       "65297     Cleveland, OH: Cleveland-Hopkins International        236.0   \n",
       "65298     Charlotte, NC: Charlotte Douglas International        304.0   \n",
       "65299    Columbus, OH: John Glenn Columbus International         48.0   \n",
       "65300                     Columbus, GA: Columbus Airport        116.0   \n",
       "65301  Cincinnati, OH: Cincinnati/Northern Kentucky I...        950.0   \n",
       "...                                                  ...          ...   \n",
       "70272  New Orleans, LA: Louis Armstrong New Orleans I...        263.0   \n",
       "70273   Martha's Vineyard, MA: Martha's Vineyard Airport         17.0   \n",
       "70274       Myrtle Beach, SC: Myrtle Beach International         54.0   \n",
       "70275               Oklahoma City, OK: Will Rogers World        138.0   \n",
       "70276                         Omaha, NE: Eppley Airfield        260.0   \n",
       "70277          Chicago, IL: Chicago O'Hare International       1647.0   \n",
       "70278                 Norfolk, VA: Norfolk International         96.0   \n",
       "70279  West Palm Beach/Palm Beach, FL: Palm Beach Int...         31.0   \n",
       "70280       Philadelphia, PA: Philadelphia International       1813.0   \n",
       "70281           Pittsburgh, PA: Pittsburgh International        716.0   \n",
       "70282             Pensacola, FL: Pensacola International         78.0   \n",
       "70283       Providence, RI: Theodore Francis Green State        175.0   \n",
       "70284       Portland, ME: Portland International Jetport        117.0   \n",
       "70285                Rapid City, SD: Rapid City Regional          3.0   \n",
       "70286   Raleigh/Durham, NC: Raleigh-Durham International        529.0   \n",
       "70287               Richmond, VA: Richmond International         12.0   \n",
       "70288     Rochester, NY: Greater Rochester International        145.0   \n",
       "70289    Fort Myers, FL: Southwest Florida International         23.0   \n",
       "70290         San Antonio, TX: San Antonio International         29.0   \n",
       "70291   Savannah, GA: Savannah/Hilton Head International         70.0   \n",
       "70292  Louisville, KY: Louisville International-Stand...        387.0   \n",
       "70293   Salt Lake City, UT: Salt Lake City International         49.0   \n",
       "70294  Sarasota/Bradenton, FL: Sarasota/Bradenton Int...         78.0   \n",
       "70295      St. Louis, MO: St Louis Lambert International        311.0   \n",
       "70296       Syracuse, NY: Syracuse Hancock International        174.0   \n",
       "70297                     Tampa, FL: Tampa International         20.0   \n",
       "70298                     Tulsa, OK: Tulsa International         10.0   \n",
       "70299                  Traverse City, MI: Cherry Capital          6.0   \n",
       "70300  Valparaiso, FL: Eglin AFB Destin Fort Walton B...         30.0   \n",
       "70301      Fayetteville, AR: Northwest Arkansas Regional        134.0   \n",
       "\n",
       "       arr_del15  carrier_ct         ...           security_ct  \\\n",
       "65272        3.0        1.78         ...                  0.00   \n",
       "65273        8.0        4.81         ...                  0.00   \n",
       "65274       18.0        4.70         ...                  0.00   \n",
       "65275        0.0        0.00         ...                  0.00   \n",
       "65276      372.0       62.43         ...                  0.00   \n",
       "65277        6.0        2.10         ...                  0.00   \n",
       "65278        2.0        0.02         ...                  0.00   \n",
       "65279       11.0        5.02         ...                  0.00   \n",
       "65280        4.0        4.00         ...                  0.00   \n",
       "65281        3.0        0.09         ...                  0.00   \n",
       "65282       30.0        7.51         ...                  0.00   \n",
       "65283        0.0        0.00         ...                  0.00   \n",
       "65284        7.0        1.63         ...                  0.00   \n",
       "65285       34.0        8.44         ...                  0.00   \n",
       "65286      128.0       23.88         ...                  0.00   \n",
       "65287       15.0        7.84         ...                  0.00   \n",
       "65288       20.0        7.32         ...                  0.00   \n",
       "65289       35.0        8.71         ...                  0.00   \n",
       "65290       78.0       23.35         ...                  0.00   \n",
       "65291       27.0        7.70         ...                  0.00   \n",
       "65292       22.0        8.21         ...                  0.00   \n",
       "65293       15.0        6.48         ...                  0.00   \n",
       "65294        4.0        1.00         ...                  0.00   \n",
       "65295        7.0        1.35         ...                  0.00   \n",
       "65296        3.0        2.01         ...                  0.00   \n",
       "65297       42.0       14.64         ...                  0.00   \n",
       "65298       52.0       12.83         ...                  0.00   \n",
       "65299       12.0        2.19         ...                  0.00   \n",
       "65300       22.0       11.48         ...                  0.00   \n",
       "65301      213.0       43.68         ...                  0.00   \n",
       "...          ...         ...         ...                   ...   \n",
       "70272       48.0       10.15         ...                  0.00   \n",
       "70273        3.0        1.70         ...                  0.00   \n",
       "70274        8.0        1.54         ...                  0.00   \n",
       "70275       41.0        7.94         ...                  0.00   \n",
       "70276       54.0       14.35         ...                  0.00   \n",
       "70277      401.0       58.01         ...                  1.00   \n",
       "70278       22.0        8.38         ...                  0.00   \n",
       "70279       13.0        0.74         ...                  0.00   \n",
       "70280      316.0       61.27         ...                  0.24   \n",
       "70281      142.0       37.07         ...                  0.00   \n",
       "70282       16.0        2.30         ...                  0.00   \n",
       "70283       31.0        6.83         ...                  0.09   \n",
       "70284       13.0        5.47         ...                  0.00   \n",
       "70285        1.0        1.00         ...                  0.00   \n",
       "70286       81.0       29.65         ...                  0.00   \n",
       "70287        2.0        0.42         ...                  0.00   \n",
       "70288       31.0       10.61         ...                  0.00   \n",
       "70289        4.0        1.00         ...                  0.00   \n",
       "70290        9.0        3.00         ...                  0.00   \n",
       "70291       16.0        7.27         ...                  0.00   \n",
       "70292       91.0       23.16         ...                  0.00   \n",
       "70293       15.0        6.15         ...                  0.00   \n",
       "70294       12.0        3.06         ...                  0.00   \n",
       "70295       44.0       10.26         ...                  0.00   \n",
       "70296       39.0        9.60         ...                  0.00   \n",
       "70297        1.0        0.00         ...                  0.00   \n",
       "70298        2.0        1.00         ...                  0.00   \n",
       "70299        2.0        1.66         ...                  0.00   \n",
       "70300        3.0        0.00         ...                  0.00   \n",
       "70301       31.0        8.06         ...                  0.00   \n",
       "\n",
       "       late_aircraft_ct  arr_cancelled  arr_diverted   arr_delay  \\\n",
       "65272              0.91            0.0           0.0       130.0   \n",
       "65273              2.55            0.0           0.0       346.0   \n",
       "65274              7.26            0.0           0.0      1083.0   \n",
       "65275              0.00            0.0           0.0         0.0   \n",
       "65276            181.98           10.0           1.0     24866.0   \n",
       "65277              0.26            0.0           0.0       232.0   \n",
       "65278              0.94            0.0           0.0       335.0   \n",
       "65279              1.66            0.0           0.0       582.0   \n",
       "65280              0.00            0.0           0.0       265.0   \n",
       "65281              2.90            1.0           0.0       303.0   \n",
       "65282             16.99            4.0           0.0      1791.0   \n",
       "65283              0.00            0.0           0.0         0.0   \n",
       "65284              2.40            0.0           0.0      1781.0   \n",
       "65285             15.96            7.0           0.0      1993.0   \n",
       "65286             42.96           14.0           0.0      8856.0   \n",
       "65287              1.99            1.0           0.0      1355.0   \n",
       "65288              4.33            1.0           0.0      1012.0   \n",
       "65289             17.74           11.0           1.0      1919.0   \n",
       "65290             36.10           20.0           3.0      5859.0   \n",
       "65291              4.25            6.0           0.0      1409.0   \n",
       "65292             11.89            3.0           0.0      1600.0   \n",
       "65293              7.54            1.0           0.0       981.0   \n",
       "65294              2.92            2.0           0.0       356.0   \n",
       "65295              3.39            2.0           0.0       522.0   \n",
       "65296              0.99            0.0           0.0       258.0   \n",
       "65297             14.73            5.0           0.0      3271.0   \n",
       "65298             18.99           14.0           0.0      4013.0   \n",
       "65299              7.37            2.0           0.0       823.0   \n",
       "65300              6.93            0.0           1.0      1004.0   \n",
       "65301            109.67           18.0           0.0     19420.0   \n",
       "...                 ...            ...           ...         ...   \n",
       "70272             15.96            2.0           1.0      2566.0   \n",
       "70273              0.30            0.0           0.0       126.0   \n",
       "70274              4.67            0.0           0.0       559.0   \n",
       "70275             20.44            5.0           0.0      2989.0   \n",
       "70276             17.57            2.0           2.0      3092.0   \n",
       "70277            122.03           71.0           5.0     33641.0   \n",
       "70278              9.54            2.0           0.0      1064.0   \n",
       "70279              5.41            0.0           0.0      1219.0   \n",
       "70280            103.29           32.0           1.0     17924.0   \n",
       "70281             62.16           14.0           0.0      9428.0   \n",
       "70282              7.36            1.0           1.0       784.0   \n",
       "70283             14.95            4.0           0.0      1511.0   \n",
       "70284              5.49            2.0           0.0       621.0   \n",
       "70285              0.00            0.0           0.0        20.0   \n",
       "70286             33.50           10.0           0.0      4379.0   \n",
       "70287              0.95            0.0           0.0       363.0   \n",
       "70288             11.96            2.0           1.0      1329.0   \n",
       "70289              0.00            0.0           0.0       102.0   \n",
       "70290              1.94            0.0           0.0       462.0   \n",
       "70291              5.01            0.0           1.0      1331.0   \n",
       "70292             40.57            4.0           0.0      5910.0   \n",
       "70293              6.01            2.0           0.0      1599.0   \n",
       "70294              1.56            1.0           0.0       653.0   \n",
       "70295             23.70            7.0           4.0      2487.0   \n",
       "70296             17.23            6.0           0.0      2371.0   \n",
       "70297              0.00            0.0           0.0        65.0   \n",
       "70298              0.00            0.0           0.0        87.0   \n",
       "70299              0.00            0.0           0.0       106.0   \n",
       "70300              0.64            1.0           0.0        80.0   \n",
       "70301              8.68            1.0           0.0      3863.0   \n",
       "\n",
       "       carrier_delay   weather_delay  nas_delay  security_delay  \\\n",
       "65272           73.0             0.0       11.0             0.0   \n",
       "65273          215.0             8.0       22.0             0.0   \n",
       "65274          287.0             0.0      237.0             0.0   \n",
       "65275            0.0             0.0        0.0             0.0   \n",
       "65276         6670.0           914.0     3664.0             0.0   \n",
       "65277          106.0             0.0      111.0             0.0   \n",
       "65278            6.0             0.0       29.0             0.0   \n",
       "65279          383.0            93.0       72.0             0.0   \n",
       "65280          265.0             0.0        0.0             0.0   \n",
       "65281           12.0             0.0        2.0             0.0   \n",
       "65282          527.0            20.0      217.0             0.0   \n",
       "65283            0.0             0.0        0.0             0.0   \n",
       "65284           92.0          1497.0       70.0             0.0   \n",
       "65285          393.0             3.0      501.0             0.0   \n",
       "65286         1401.0           342.0     3557.0             0.0   \n",
       "65287         1055.0             0.0      126.0             0.0   \n",
       "65288          423.0           112.0      168.0             0.0   \n",
       "65289          517.0             0.0      270.0             0.0   \n",
       "65290         1488.0            45.0      811.0             0.0   \n",
       "65291          421.0            65.0      563.0             0.0   \n",
       "65292          577.0             0.0       73.0             0.0   \n",
       "65293          558.0             0.0       43.0             0.0   \n",
       "65294          142.0             0.0        5.0             0.0   \n",
       "65295          100.0             0.0       61.0             0.0   \n",
       "65296          131.0             0.0        0.0             0.0   \n",
       "65297         1147.0             1.0      700.0             0.0   \n",
       "65298          846.0           612.0      976.0             0.0   \n",
       "65299          151.0             0.0      107.0             0.0   \n",
       "65300          539.0             1.0       96.0             0.0   \n",
       "65301         5350.0          1239.0     2702.0             0.0   \n",
       "...              ...             ...        ...             ...   \n",
       "70272          550.0            93.0      825.0             0.0   \n",
       "70273           85.0            19.0        0.0             0.0   \n",
       "70274           61.0             0.0      101.0             0.0   \n",
       "70275          513.0            22.0      391.0             0.0   \n",
       "70276         1058.0           132.0      822.0             0.0   \n",
       "70277         6523.0           953.0    15843.0            16.0   \n",
       "70278          430.0            40.0      101.0             0.0   \n",
       "70279           40.0           145.0      584.0             0.0   \n",
       "70280         3670.0          1295.0     5908.0            10.0   \n",
       "70281         2315.0          1223.0     1484.0             0.0   \n",
       "70282           92.0             0.0      246.0             0.0   \n",
       "70283          240.0             3.0      255.0             8.0   \n",
       "70284          224.0             0.0       56.0             0.0   \n",
       "70285           20.0             0.0        0.0             0.0   \n",
       "70286         1765.0            30.0      833.0             0.0   \n",
       "70287           29.0             0.0       68.0             0.0   \n",
       "70288          578.0             0.0      278.0             0.0   \n",
       "70289           23.0             0.0       79.0             0.0   \n",
       "70290          100.0            21.0      173.0             0.0   \n",
       "70291          615.0             0.0      234.0             0.0   \n",
       "70292         1461.0           491.0      765.0             0.0   \n",
       "70293          777.0            72.0       95.0             0.0   \n",
       "70294          163.0            28.0      261.0             0.0   \n",
       "70295          464.0           101.0      580.0             0.0   \n",
       "70296          514.0            51.0      447.0             0.0   \n",
       "70297            0.0            65.0        0.0             0.0   \n",
       "70298           66.0            21.0        0.0             0.0   \n",
       "70299           88.0             0.0       18.0             0.0   \n",
       "70300            0.0             0.0       50.0             0.0   \n",
       "70301         1205.0          1655.0      357.0             0.0   \n",
       "\n",
       "       late_aircraft_delay  \n",
       "65272                 46.0  \n",
       "65273                101.0  \n",
       "65274                559.0  \n",
       "65275                  0.0  \n",
       "65276              13618.0  \n",
       "65277                 15.0  \n",
       "65278                300.0  \n",
       "65279                 34.0  \n",
       "65280                  0.0  \n",
       "65281                289.0  \n",
       "65282               1027.0  \n",
       "65283                  0.0  \n",
       "65284                122.0  \n",
       "65285               1096.0  \n",
       "65286               3556.0  \n",
       "65287                174.0  \n",
       "65288                309.0  \n",
       "65289               1132.0  \n",
       "65290               3515.0  \n",
       "65291                360.0  \n",
       "65292                950.0  \n",
       "65293                380.0  \n",
       "65294                209.0  \n",
       "65295                361.0  \n",
       "65296                127.0  \n",
       "65297               1423.0  \n",
       "65298               1579.0  \n",
       "65299                565.0  \n",
       "65300                368.0  \n",
       "65301              10129.0  \n",
       "...                    ...  \n",
       "70272               1098.0  \n",
       "70273                 22.0  \n",
       "70274                397.0  \n",
       "70275               2063.0  \n",
       "70276               1080.0  \n",
       "70277              10306.0  \n",
       "70278                493.0  \n",
       "70279                450.0  \n",
       "70280               7041.0  \n",
       "70281               4406.0  \n",
       "70282                446.0  \n",
       "70283               1005.0  \n",
       "70284                341.0  \n",
       "70285                  0.0  \n",
       "70286               1751.0  \n",
       "70287                266.0  \n",
       "70288                473.0  \n",
       "70289                  0.0  \n",
       "70290                168.0  \n",
       "70291                482.0  \n",
       "70292               3193.0  \n",
       "70293                655.0  \n",
       "70294                201.0  \n",
       "70295               1342.0  \n",
       "70296               1359.0  \n",
       "70297                  0.0  \n",
       "70298                  0.0  \n",
       "70299                  0.0  \n",
       "70300                 30.0  \n",
       "70301                646.0  \n",
       "\n",
       "[5030 rows x 22 columns]"
      ]
     },
     "execution_count": 15,
     "metadata": {},
     "output_type": "execute_result"
    }
   ],
   "source": [
    "#Assign each season their own dataframe\n",
    "\n",
    "seasondelay_A= flight_df.loc[flight_df[\"Season\"]==\"A\"]\n",
    "seasondelay_B= flight_df.loc[flight_df[\"Season\"]==\"B\"]\n",
    "seasondelay_C= flight_df.loc[flight_df[\"Season\"]==\"C\"]\n",
    "seasondelay_D= flight_df.loc[flight_df[\"Season\"]==\"D\"]\n",
    "seasondelay_E= flight_df.loc[flight_df[\"Season\"]==\"E\"]\n",
    "seasondelay_F= flight_df.loc[flight_df[\"Season\"]==\"F\"]\n",
    "seasondelay_G= flight_df.loc[flight_df[\"Season\"]==\"G\"]\n",
    "seasondelay_H= flight_df.loc[flight_df[\"Season\"]==\"H\"]\n",
    "seasondelay_I= flight_df.loc[flight_df[\"Season\"]==\"I\"]\n",
    "seasondelay_J= flight_df.loc[flight_df[\"Season\"]==\"J\"]\n",
    "seasondelay_K= flight_df.loc[flight_df[\"Season\"]==\"K\"]\n",
    "seasondelay_L= flight_df.loc[flight_df[\"Season\"]==\"L\"]\n",
    "seasondelay_M= flight_df.loc[flight_df[\"Season\"]==\"M\"]\n",
    "seasondelay_N= flight_df.loc[flight_df[\"Season\"]==\"N\"]\n",
    "seasondelay_O= flight_df.loc[flight_df[\"Season\"]==\"O\"]\n",
    "seasondelay_P= flight_df.loc[flight_df[\"Season\"]==\"P\"]\n",
    "seasondelay_Q= flight_df.loc[flight_df[\"Season\"]==\"Q\"]\n",
    "seasondelay_R= flight_df.loc[flight_df[\"Season\"]==\"R\"]\n",
    "seasondelay_S= flight_df.loc[flight_df[\"Season\"]==\"S\"]\n",
    "seasondelay_T= flight_df.loc[flight_df[\"Season\"]==\"T\"]\n",
    "\n",
    "seasondelay_T"
   ]
  },
  {
   "cell_type": "code",
   "execution_count": 18,
   "metadata": {
    "scrolled": true
   },
   "outputs": [],
   "source": [
    "#Calculating Delays by  \n",
    "late_aircraft_delay_A=seasondelay_A[\"late_aircraft_delay\"].sum()\n",
    "late_aircraft_delay_B=seasondelay_B[\"late_aircraft_delay\"].sum()\n",
    "late_aircraft_delay_C=seasondelay_C[\"late_aircraft_delay\"].sum()\n",
    "late_aircraft_delay_D=seasondelay_D[\"late_aircraft_delay\"].sum()\n",
    "late_aircraft_delay_E=seasondelay_E[\"late_aircraft_delay\"].sum()\n",
    "late_aircraft_delay_F=seasondelay_F[\"late_aircraft_delay\"].sum()\n",
    "late_aircraft_delay_G=seasondelay_G[\"late_aircraft_delay\"].sum()\n",
    "late_aircraft_delay_H=seasondelay_H[\"late_aircraft_delay\"].sum()\n",
    "late_aircraft_delay_I=seasondelay_I[\"late_aircraft_delay\"].sum()\n",
    "late_aircraft_delay_J=seasondelay_J[\"late_aircraft_delay\"].sum()\n",
    "late_aircraft_delay_K=seasondelay_K[\"late_aircraft_delay\"].sum()\n",
    "late_aircraft_delay_L=seasondelay_L[\"late_aircraft_delay\"].sum()\n",
    "late_aircraft_delay_M=seasondelay_M[\"late_aircraft_delay\"].sum()\n",
    "late_aircraft_delay_N=seasondelay_N[\"late_aircraft_delay\"].sum()\n",
    "late_aircraft_delay_O=seasondelay_O[\"late_aircraft_delay\"].sum()\n",
    "late_aircraft_delay_P=seasondelay_P[\"late_aircraft_delay\"].sum()\n",
    "late_aircraft_delay_Q=seasondelay_Q[\"late_aircraft_delay\"].sum()\n",
    "late_aircraft_delay_R=seasondelay_R[\"late_aircraft_delay\"].sum()\n",
    "late_aircraft_delay_S=seasondelay_S[\"late_aircraft_delay\"].sum()\n",
    "late_aircraft_delay_T=seasondelay_T[\"late_aircraft_delay\"].sum()\n"
   ]
  },
  {
   "cell_type": "code",
   "execution_count": 19,
   "metadata": {},
   "outputs": [],
   "source": [
    "security_delay_A=seasondelay_A[\"security_delay\"].sum()\n",
    "security_delay_B=seasondelay_B[\"security_delay\"].sum()\n",
    "security_delay_C=seasondelay_C[\"security_delay\"].sum()\n",
    "security_delay_D=seasondelay_D[\"security_delay\"].sum()\n",
    "security_delay_E=seasondelay_E[\"security_delay\"].sum()\n",
    "security_delay_F=seasondelay_F[\"security_delay\"].sum()\n",
    "security_delay_G=seasondelay_G[\"security_delay\"].sum()\n",
    "security_delay_H=seasondelay_H[\"security_delay\"].sum()\n",
    "security_delay_I=seasondelay_I[\"security_delay\"].sum()\n",
    "security_delay_J=seasondelay_J[\"security_delay\"].sum()\n",
    "security_delay_K=seasondelay_K[\"security_delay\"].sum()\n",
    "security_delay_L=seasondelay_L[\"security_delay\"].sum()\n",
    "security_delay_M=seasondelay_M[\"security_delay\"].sum()\n",
    "security_delay_N=seasondelay_N[\"security_delay\"].sum()\n",
    "security_delay_O=seasondelay_O[\"security_delay\"].sum()\n",
    "security_delay_P=seasondelay_P[\"security_delay\"].sum()\n",
    "security_delay_Q=seasondelay_Q[\"security_delay\"].sum()\n",
    "security_delay_R=seasondelay_R[\"security_delay\"].sum()\n",
    "security_delay_S=seasondelay_S[\"security_delay\"].sum()\n",
    "security_delay_T=seasondelay_T[\"security_delay\"].sum()"
   ]
  },
  {
   "cell_type": "code",
   "execution_count": 20,
   "metadata": {},
   "outputs": [],
   "source": [
    "nas_delay_A=seasondelay_A[\"nas_delay\"].sum()\n",
    "nas_delay_B=seasondelay_B[\"nas_delay\"].sum()\n",
    "nas_delay_C=seasondelay_C[\"nas_delay\"].sum()\n",
    "nas_delay_D=seasondelay_D[\"nas_delay\"].sum()\n",
    "nas_delay_E=seasondelay_E[\"nas_delay\"].sum()\n",
    "nas_delay_F=seasondelay_F[\"nas_delay\"].sum()\n",
    "nas_delay_G=seasondelay_G[\"nas_delay\"].sum()\n",
    "nas_delay_H=seasondelay_H[\"nas_delay\"].sum()\n",
    "nas_delay_I=seasondelay_I[\"nas_delay\"].sum()\n",
    "nas_delay_J=seasondelay_J[\"nas_delay\"].sum()\n",
    "nas_delay_K=seasondelay_K[\"nas_delay\"].sum()\n",
    "nas_delay_L=seasondelay_L[\"nas_delay\"].sum()\n",
    "nas_delay_M=seasondelay_M[\"nas_delay\"].sum()\n",
    "nas_delay_N=seasondelay_N[\"nas_delay\"].sum()\n",
    "nas_delay_O=seasondelay_O[\"nas_delay\"].sum()\n",
    "nas_delay_P=seasondelay_P[\"nas_delay\"].sum()\n",
    "nas_delay_Q=seasondelay_Q[\"nas_delay\"].sum()\n",
    "nas_delay_R=seasondelay_R[\"nas_delay\"].sum()\n",
    "nas_delay_S=seasondelay_S[\"nas_delay\"].sum()\n",
    "nas_delay_T=seasondelay_T[\"nas_delay\"].sum()"
   ]
  },
  {
   "cell_type": "code",
   "execution_count": 21,
   "metadata": {},
   "outputs": [],
   "source": [
    "carrier_delay_A=seasondelay_A[\"carrier_delay\"].sum()\n",
    "carrier_delay_B=seasondelay_B[\"carrier_delay\"].sum()\n",
    "carrier_delay_C=seasondelay_C[\"carrier_delay\"].sum()\n",
    "carrier_delay_D=seasondelay_D[\"carrier_delay\"].sum()\n",
    "carrier_delay_E=seasondelay_E[\"carrier_delay\"].sum()\n",
    "carrier_delay_F=seasondelay_F[\"carrier_delay\"].sum()\n",
    "carrier_delay_G=seasondelay_G[\"carrier_delay\"].sum()\n",
    "carrier_delay_H=seasondelay_H[\"carrier_delay\"].sum()\n",
    "carrier_delay_I=seasondelay_I[\"carrier_delay\"].sum()\n",
    "carrier_delay_J=seasondelay_J[\"carrier_delay\"].sum()\n",
    "carrier_delay_K=seasondelay_K[\"carrier_delay\"].sum()\n",
    "carrier_delay_L=seasondelay_L[\"carrier_delay\"].sum()\n",
    "carrier_delay_M=seasondelay_M[\"carrier_delay\"].sum()\n",
    "carrier_delay_N=seasondelay_N[\"carrier_delay\"].sum()\n",
    "carrier_delay_O=seasondelay_O[\"carrier_delay\"].sum()\n",
    "carrier_delay_P=seasondelay_P[\"carrier_delay\"].sum()\n",
    "carrier_delay_Q=seasondelay_Q[\"carrier_delay\"].sum()\n",
    "carrier_delay_R=seasondelay_R[\"carrier_delay\"].sum()\n",
    "carrier_delay_S=seasondelay_S[\"carrier_delay\"].sum()\n",
    "carrier_delay_T=seasondelay_T[\"carrier_delay\"].sum()"
   ]
  },
  {
   "cell_type": "code",
   "execution_count": 25,
   "metadata": {},
   "outputs": [],
   "source": [
    "weather_ct_delay_A=seasondelay_A[\" weather_delay\"].sum()\n",
    "weather_ct_delay_B=seasondelay_B[\" weather_delay\"].sum()\n",
    "weather_ct_delay_C=seasondelay_C[\" weather_delay\"].sum()\n",
    "weather_ct_delay_D=seasondelay_D[\" weather_delay\"].sum()\n",
    "weather_ct_delay_E=seasondelay_E[\" weather_delay\"].sum()\n",
    "weather_ct_delay_F=seasondelay_F[\" weather_delay\"].sum()\n",
    "weather_ct_delay_G=seasondelay_G[\" weather_delay\"].sum()\n",
    "weather_ct_delay_H=seasondelay_H[\" weather_delay\"].sum()\n",
    "weather_ct_delay_I=seasondelay_I[\" weather_delay\"].sum()\n",
    "weather_ct_delay_J=seasondelay_J[\" weather_delay\"].sum()\n",
    "weather_ct_delay_K=seasondelay_K[\" weather_delay\"].sum()\n",
    "weather_ct_delay_L=seasondelay_L[\" weather_delay\"].sum()\n",
    "weather_ct_delay_M=seasondelay_M[\" weather_delay\"].sum()\n",
    "weather_ct_delay_N=seasondelay_N[\" weather_delay\"].sum()\n",
    "weather_ct_delay_O=seasondelay_O[\" weather_delay\"].sum()\n",
    "weather_ct_delay_P=seasondelay_P[\" weather_delay\"].sum()\n",
    "weather_ct_delay_Q=seasondelay_Q[\" weather_delay\"].sum()\n",
    "weather_ct_delay_R=seasondelay_R[\" weather_delay\"].sum()\n",
    "weather_ct_delay_S=seasondelay_S[\" weather_delay\"].sum()\n",
    "weather_ct_delay_T=seasondelay_T[\" weather_delay\"].sum()"
   ]
  },
  {
   "cell_type": "code",
   "execution_count": 26,
   "metadata": {},
   "outputs": [
    {
     "data": {
      "text/plain": [
       "707902.0"
      ]
     },
     "execution_count": 26,
     "metadata": {},
     "output_type": "execute_result"
    }
   ],
   "source": [
    "weather_ct_delay_A"
   ]
  },
  {
   "cell_type": "code",
   "execution_count": 27,
   "metadata": {},
   "outputs": [
    {
     "data": {
      "text/plain": [
       "576179.0"
      ]
     },
     "execution_count": 27,
     "metadata": {},
     "output_type": "execute_result"
    }
   ],
   "source": [
    "weather_ct_delay_B"
   ]
  },
  {
   "cell_type": "code",
   "execution_count": 28,
   "metadata": {},
   "outputs": [
    {
     "data": {
      "text/plain": [
       "1028591.0"
      ]
     },
     "execution_count": 28,
     "metadata": {},
     "output_type": "execute_result"
    }
   ],
   "source": [
    "weather_ct_delay_C"
   ]
  },
  {
   "cell_type": "code",
   "execution_count": 29,
   "metadata": {},
   "outputs": [
    {
     "data": {
      "text/plain": [
       "792621.0"
      ]
     },
     "execution_count": 29,
     "metadata": {},
     "output_type": "execute_result"
    }
   ],
   "source": [
    "weather_ct_delay_D"
   ]
  },
  {
   "cell_type": "code",
   "execution_count": 30,
   "metadata": {},
   "outputs": [
    {
     "data": {
      "text/plain": [
       "738158.0"
      ]
     },
     "execution_count": 30,
     "metadata": {},
     "output_type": "execute_result"
    }
   ],
   "source": [
    "weather_ct_delay_E"
   ]
  },
  {
   "cell_type": "code",
   "execution_count": 31,
   "metadata": {},
   "outputs": [
    {
     "data": {
      "text/plain": [
       "429299.0"
      ]
     },
     "execution_count": 31,
     "metadata": {},
     "output_type": "execute_result"
    }
   ],
   "source": [
    "weather_ct_delay_F"
   ]
  },
  {
   "cell_type": "code",
   "execution_count": 32,
   "metadata": {},
   "outputs": [
    {
     "data": {
      "text/plain": [
       "903013.0"
      ]
     },
     "execution_count": 32,
     "metadata": {},
     "output_type": "execute_result"
    }
   ],
   "source": [
    "weather_ct_delay_G"
   ]
  },
  {
   "cell_type": "code",
   "execution_count": 33,
   "metadata": {},
   "outputs": [
    {
     "data": {
      "text/plain": [
       "938844.0"
      ]
     },
     "execution_count": 33,
     "metadata": {},
     "output_type": "execute_result"
    }
   ],
   "source": [
    "weather_ct_delay_H"
   ]
  },
  {
   "cell_type": "code",
   "execution_count": 34,
   "metadata": {},
   "outputs": [
    {
     "data": {
      "text/plain": [
       "635303.0"
      ]
     },
     "execution_count": 34,
     "metadata": {},
     "output_type": "execute_result"
    }
   ],
   "source": [
    "weather_ct_delay_I"
   ]
  },
  {
   "cell_type": "code",
   "execution_count": 35,
   "metadata": {},
   "outputs": [
    {
     "data": {
      "text/plain": [
       "623073.0"
      ]
     },
     "execution_count": 35,
     "metadata": {},
     "output_type": "execute_result"
    }
   ],
   "source": [
    "weather_ct_delay_J"
   ]
  },
  {
   "cell_type": "code",
   "execution_count": 36,
   "metadata": {},
   "outputs": [
    {
     "data": {
      "text/plain": [
       "585794.0"
      ]
     },
     "execution_count": 36,
     "metadata": {},
     "output_type": "execute_result"
    }
   ],
   "source": [
    "weather_ct_delay_K"
   ]
  },
  {
   "cell_type": "code",
   "execution_count": 37,
   "metadata": {},
   "outputs": [
    {
     "data": {
      "text/plain": [
       "667475.0"
      ]
     },
     "execution_count": 37,
     "metadata": {},
     "output_type": "execute_result"
    }
   ],
   "source": [
    "weather_ct_delay_L"
   ]
  },
  {
   "cell_type": "code",
   "execution_count": 38,
   "metadata": {},
   "outputs": [
    {
     "data": {
      "text/plain": [
       "848115.0"
      ]
     },
     "execution_count": 38,
     "metadata": {},
     "output_type": "execute_result"
    }
   ],
   "source": [
    "weather_ct_delay_M"
   ]
  },
  {
   "cell_type": "code",
   "execution_count": 39,
   "metadata": {},
   "outputs": [
    {
     "data": {
      "text/plain": [
       "504699.0"
      ]
     },
     "execution_count": 39,
     "metadata": {},
     "output_type": "execute_result"
    }
   ],
   "source": [
    "weather_ct_delay_N"
   ]
  },
  {
   "cell_type": "code",
   "execution_count": 40,
   "metadata": {},
   "outputs": [
    {
     "data": {
      "text/plain": [
       "680419.0"
      ]
     },
     "execution_count": 40,
     "metadata": {},
     "output_type": "execute_result"
    }
   ],
   "source": [
    "weather_ct_delay_O"
   ]
  },
  {
   "cell_type": "code",
   "execution_count": 41,
   "metadata": {},
   "outputs": [
    {
     "data": {
      "text/plain": [
       "844074.0"
      ]
     },
     "execution_count": 41,
     "metadata": {},
     "output_type": "execute_result"
    }
   ],
   "source": [
    "weather_ct_delay_P"
   ]
  },
  {
   "cell_type": "code",
   "execution_count": 42,
   "metadata": {},
   "outputs": [
    {
     "data": {
      "text/plain": [
       "766802.0"
      ]
     },
     "execution_count": 42,
     "metadata": {},
     "output_type": "execute_result"
    }
   ],
   "source": [
    "weather_ct_delay_Q"
   ]
  },
  {
   "cell_type": "code",
   "execution_count": 43,
   "metadata": {},
   "outputs": [
    {
     "data": {
      "text/plain": [
       "508464.0"
      ]
     },
     "execution_count": 43,
     "metadata": {},
     "output_type": "execute_result"
    }
   ],
   "source": [
    "weather_ct_delay_R"
   ]
  },
  {
   "cell_type": "code",
   "execution_count": 44,
   "metadata": {},
   "outputs": [
    {
     "data": {
      "text/plain": [
       "1065327.0"
      ]
     },
     "execution_count": 44,
     "metadata": {},
     "output_type": "execute_result"
    }
   ],
   "source": [
    "weather_ct_delay_S"
   ]
  },
  {
   "cell_type": "code",
   "execution_count": 45,
   "metadata": {},
   "outputs": [
    {
     "data": {
      "text/plain": [
       "1296454.0"
      ]
     },
     "execution_count": 45,
     "metadata": {},
     "output_type": "execute_result"
    }
   ],
   "source": [
    "weather_ct_delay_T"
   ]
  },
  {
   "cell_type": "code",
   "execution_count": 46,
   "metadata": {},
   "outputs": [
    {
     "data": {
      "text/plain": [
       "5588588.0"
      ]
     },
     "execution_count": 46,
     "metadata": {},
     "output_type": "execute_result"
    }
   ],
   "source": [
    "carrier_delay_A"
   ]
  },
  {
   "cell_type": "code",
   "execution_count": 47,
   "metadata": {},
   "outputs": [
    {
     "data": {
      "text/plain": [
       "4978933.0"
      ]
     },
     "execution_count": 47,
     "metadata": {},
     "output_type": "execute_result"
    }
   ],
   "source": [
    "carrier_delay_B"
   ]
  },
  {
   "cell_type": "code",
   "execution_count": 48,
   "metadata": {},
   "outputs": [
    {
     "data": {
      "text/plain": [
       "5870259.0"
      ]
     },
     "execution_count": 48,
     "metadata": {},
     "output_type": "execute_result"
    }
   ],
   "source": [
    "carrier_delay_C"
   ]
  },
  {
   "cell_type": "code",
   "execution_count": 49,
   "metadata": {},
   "outputs": [
    {
     "data": {
      "text/plain": [
       "5436456.0"
      ]
     },
     "execution_count": 49,
     "metadata": {},
     "output_type": "execute_result"
    }
   ],
   "source": [
    "carrier_delay_D"
   ]
  },
  {
   "cell_type": "code",
   "execution_count": 50,
   "metadata": {},
   "outputs": [
    {
     "data": {
      "text/plain": [
       "5265577.0"
      ]
     },
     "execution_count": 50,
     "metadata": {},
     "output_type": "execute_result"
    }
   ],
   "source": [
    "carrier_delay_E"
   ]
  },
  {
   "cell_type": "code",
   "execution_count": 51,
   "metadata": {},
   "outputs": [
    {
     "data": {
      "text/plain": [
       "4687117.0"
      ]
     },
     "execution_count": 51,
     "metadata": {},
     "output_type": "execute_result"
    }
   ],
   "source": [
    "carrier_delay_F"
   ]
  },
  {
   "cell_type": "code",
   "execution_count": 52,
   "metadata": {},
   "outputs": [
    {
     "data": {
      "text/plain": [
       "5239495.0"
      ]
     },
     "execution_count": 52,
     "metadata": {},
     "output_type": "execute_result"
    }
   ],
   "source": [
    "carrier_delay_G"
   ]
  },
  {
   "cell_type": "code",
   "execution_count": 53,
   "metadata": {},
   "outputs": [
    {
     "data": {
      "text/plain": [
       "5454847.0"
      ]
     },
     "execution_count": 53,
     "metadata": {},
     "output_type": "execute_result"
    }
   ],
   "source": [
    "carrier_delay_H"
   ]
  },
  {
   "cell_type": "code",
   "execution_count": 54,
   "metadata": {},
   "outputs": [
    {
     "data": {
      "text/plain": [
       "5017768.0"
      ]
     },
     "execution_count": 54,
     "metadata": {},
     "output_type": "execute_result"
    }
   ],
   "source": [
    "carrier_delay_I"
   ]
  },
  {
   "cell_type": "code",
   "execution_count": 55,
   "metadata": {},
   "outputs": [
    {
     "data": {
      "text/plain": [
       "4460846.0"
      ]
     },
     "execution_count": 55,
     "metadata": {},
     "output_type": "execute_result"
    }
   ],
   "source": [
    "carrier_delay_J"
   ]
  },
  {
   "cell_type": "code",
   "execution_count": 56,
   "metadata": {},
   "outputs": [
    {
     "data": {
      "text/plain": [
       "4253408.0"
      ]
     },
     "execution_count": 56,
     "metadata": {},
     "output_type": "execute_result"
    }
   ],
   "source": [
    "carrier_delay_K"
   ]
  },
  {
   "cell_type": "code",
   "execution_count": 57,
   "metadata": {},
   "outputs": [
    {
     "data": {
      "text/plain": [
       "4765838.0"
      ]
     },
     "execution_count": 57,
     "metadata": {},
     "output_type": "execute_result"
    }
   ],
   "source": [
    "carrier_delay_L"
   ]
  },
  {
   "cell_type": "code",
   "execution_count": 58,
   "metadata": {},
   "outputs": [
    {
     "data": {
      "text/plain": [
       "6059450.0"
      ]
     },
     "execution_count": 58,
     "metadata": {},
     "output_type": "execute_result"
    }
   ],
   "source": [
    "carrier_delay_M"
   ]
  },
  {
   "cell_type": "code",
   "execution_count": 59,
   "metadata": {},
   "outputs": [
    {
     "data": {
      "text/plain": [
       "4454641.0"
      ]
     },
     "execution_count": 59,
     "metadata": {},
     "output_type": "execute_result"
    }
   ],
   "source": [
    "carrier_delay_N"
   ]
  },
  {
   "cell_type": "code",
   "execution_count": 60,
   "metadata": {},
   "outputs": [
    {
     "data": {
      "text/plain": [
       "4897061.0"
      ]
     },
     "execution_count": 60,
     "metadata": {},
     "output_type": "execute_result"
    }
   ],
   "source": [
    "carrier_delay_O"
   ]
  },
  {
   "cell_type": "code",
   "execution_count": 61,
   "metadata": {},
   "outputs": [
    {
     "data": {
      "text/plain": [
       "5966480.0"
      ]
     },
     "execution_count": 61,
     "metadata": {},
     "output_type": "execute_result"
    }
   ],
   "source": [
    "carrier_delay_P"
   ]
  },
  {
   "cell_type": "code",
   "execution_count": 62,
   "metadata": {},
   "outputs": [
    {
     "data": {
      "text/plain": [
       "5376886.0"
      ]
     },
     "execution_count": 62,
     "metadata": {},
     "output_type": "execute_result"
    }
   ],
   "source": [
    "carrier_delay_Q"
   ]
  },
  {
   "cell_type": "code",
   "execution_count": 63,
   "metadata": {},
   "outputs": [
    {
     "data": {
      "text/plain": [
       "4276275.0"
      ]
     },
     "execution_count": 63,
     "metadata": {},
     "output_type": "execute_result"
    }
   ],
   "source": [
    "carrier_delay_R"
   ]
  },
  {
   "cell_type": "code",
   "execution_count": 64,
   "metadata": {},
   "outputs": [
    {
     "data": {
      "text/plain": [
       "5905933.0"
      ]
     },
     "execution_count": 64,
     "metadata": {},
     "output_type": "execute_result"
    }
   ],
   "source": [
    "carrier_delay_S"
   ]
  },
  {
   "cell_type": "code",
   "execution_count": 65,
   "metadata": {},
   "outputs": [
    {
     "data": {
      "text/plain": [
       "6922672.0"
      ]
     },
     "execution_count": 65,
     "metadata": {},
     "output_type": "execute_result"
    }
   ],
   "source": [
    "carrier_delay_T"
   ]
  },
  {
   "cell_type": "code",
   "execution_count": 66,
   "metadata": {},
   "outputs": [
    {
     "data": {
      "text/plain": [
       "4584033.0"
      ]
     },
     "execution_count": 66,
     "metadata": {},
     "output_type": "execute_result"
    }
   ],
   "source": [
    "nas_delay_A"
   ]
  },
  {
   "cell_type": "code",
   "execution_count": 67,
   "metadata": {},
   "outputs": [
    {
     "data": {
      "text/plain": [
       "3524273.0"
      ]
     },
     "execution_count": 67,
     "metadata": {},
     "output_type": "execute_result"
    }
   ],
   "source": [
    "nas_delay_B"
   ]
  },
  {
   "cell_type": "code",
   "execution_count": 68,
   "metadata": {},
   "outputs": [
    {
     "data": {
      "text/plain": [
       "4015311.0"
      ]
     },
     "execution_count": 68,
     "metadata": {},
     "output_type": "execute_result"
    }
   ],
   "source": [
    "nas_delay_C"
   ]
  },
  {
   "cell_type": "code",
   "execution_count": 69,
   "metadata": {},
   "outputs": [
    {
     "data": {
      "text/plain": [
       "4467860.0"
      ]
     },
     "execution_count": 69,
     "metadata": {},
     "output_type": "execute_result"
    }
   ],
   "source": [
    "nas_delay_D"
   ]
  },
  {
   "cell_type": "code",
   "execution_count": 70,
   "metadata": {},
   "outputs": [
    {
     "data": {
      "text/plain": [
       "4085910.0"
      ]
     },
     "execution_count": 70,
     "metadata": {},
     "output_type": "execute_result"
    }
   ],
   "source": [
    "nas_delay_E"
   ]
  },
  {
   "cell_type": "code",
   "execution_count": 71,
   "metadata": {},
   "outputs": [
    {
     "data": {
      "text/plain": [
       "3950468.0"
      ]
     },
     "execution_count": 71,
     "metadata": {},
     "output_type": "execute_result"
    }
   ],
   "source": [
    "nas_delay_F"
   ]
  },
  {
   "cell_type": "code",
   "execution_count": 72,
   "metadata": {},
   "outputs": [
    {
     "data": {
      "text/plain": [
       "3856121.0"
      ]
     },
     "execution_count": 72,
     "metadata": {},
     "output_type": "execute_result"
    }
   ],
   "source": [
    "nas_delay_G"
   ]
  },
  {
   "cell_type": "code",
   "execution_count": 73,
   "metadata": {},
   "outputs": [
    {
     "data": {
      "text/plain": [
       "4003547.0"
      ]
     },
     "execution_count": 73,
     "metadata": {},
     "output_type": "execute_result"
    }
   ],
   "source": [
    "nas_delay_H"
   ]
  },
  {
   "cell_type": "code",
   "execution_count": 74,
   "metadata": {},
   "outputs": [
    {
     "data": {
      "text/plain": [
       "3404679.0"
      ]
     },
     "execution_count": 74,
     "metadata": {},
     "output_type": "execute_result"
    }
   ],
   "source": [
    "nas_delay_I"
   ]
  },
  {
   "cell_type": "code",
   "execution_count": 75,
   "metadata": {},
   "outputs": [
    {
     "data": {
      "text/plain": [
       "3071415.0"
      ]
     },
     "execution_count": 75,
     "metadata": {},
     "output_type": "execute_result"
    }
   ],
   "source": [
    "nas_delay_J"
   ]
  },
  {
   "cell_type": "code",
   "execution_count": 76,
   "metadata": {},
   "outputs": [
    {
     "data": {
      "text/plain": [
       "3220349.0"
      ]
     },
     "execution_count": 76,
     "metadata": {},
     "output_type": "execute_result"
    }
   ],
   "source": [
    "nas_delay_K"
   ]
  },
  {
   "cell_type": "code",
   "execution_count": 77,
   "metadata": {},
   "outputs": [
    {
     "data": {
      "text/plain": [
       "3284017.0"
      ]
     },
     "execution_count": 77,
     "metadata": {},
     "output_type": "execute_result"
    }
   ],
   "source": [
    "nas_delay_L"
   ]
  },
  {
   "cell_type": "code",
   "execution_count": 78,
   "metadata": {},
   "outputs": [
    {
     "data": {
      "text/plain": [
       "4474334.0"
      ]
     },
     "execution_count": 78,
     "metadata": {},
     "output_type": "execute_result"
    }
   ],
   "source": [
    "nas_delay_M"
   ]
  },
  {
   "cell_type": "code",
   "execution_count": 79,
   "metadata": {},
   "outputs": [
    {
     "data": {
      "text/plain": [
       "3191917.0"
      ]
     },
     "execution_count": 79,
     "metadata": {},
     "output_type": "execute_result"
    }
   ],
   "source": [
    "nas_delay_N"
   ]
  },
  {
   "cell_type": "code",
   "execution_count": 80,
   "metadata": {},
   "outputs": [
    {
     "data": {
      "text/plain": [
       "3948906.0"
      ]
     },
     "execution_count": 80,
     "metadata": {},
     "output_type": "execute_result"
    }
   ],
   "source": [
    "nas_delay_O"
   ]
  },
  {
   "cell_type": "code",
   "execution_count": 81,
   "metadata": {},
   "outputs": [
    {
     "data": {
      "text/plain": [
       "5273919.0"
      ]
     },
     "execution_count": 81,
     "metadata": {},
     "output_type": "execute_result"
    }
   ],
   "source": [
    "nas_delay_P"
   ]
  },
  {
   "cell_type": "code",
   "execution_count": 82,
   "metadata": {},
   "outputs": [
    {
     "data": {
      "text/plain": [
       "4290041.0"
      ]
     },
     "execution_count": 82,
     "metadata": {},
     "output_type": "execute_result"
    }
   ],
   "source": [
    "nas_delay_Q"
   ]
  },
  {
   "cell_type": "code",
   "execution_count": 83,
   "metadata": {},
   "outputs": [
    {
     "data": {
      "text/plain": [
       "2987921.0"
      ]
     },
     "execution_count": 83,
     "metadata": {},
     "output_type": "execute_result"
    }
   ],
   "source": [
    "nas_delay_R"
   ]
  },
  {
   "cell_type": "code",
   "execution_count": 84,
   "metadata": {},
   "outputs": [
    {
     "data": {
      "text/plain": [
       "4146496.0"
      ]
     },
     "execution_count": 84,
     "metadata": {},
     "output_type": "execute_result"
    }
   ],
   "source": [
    "nas_delay_S"
   ]
  },
  {
   "cell_type": "code",
   "execution_count": 85,
   "metadata": {},
   "outputs": [
    {
     "data": {
      "text/plain": [
       "5752456.0"
      ]
     },
     "execution_count": 85,
     "metadata": {},
     "output_type": "execute_result"
    }
   ],
   "source": [
    "nas_delay_T"
   ]
  },
  {
   "cell_type": "code",
   "execution_count": 86,
   "metadata": {},
   "outputs": [
    {
     "data": {
      "text/plain": [
       "21459.0"
      ]
     },
     "execution_count": 86,
     "metadata": {},
     "output_type": "execute_result"
    }
   ],
   "source": [
    "security_delay_A"
   ]
  },
  {
   "cell_type": "code",
   "execution_count": 87,
   "metadata": {},
   "outputs": [
    {
     "data": {
      "text/plain": [
       "38756.0"
      ]
     },
     "execution_count": 87,
     "metadata": {},
     "output_type": "execute_result"
    }
   ],
   "source": [
    "security_delay_B"
   ]
  },
  {
   "cell_type": "code",
   "execution_count": 88,
   "metadata": {},
   "outputs": [
    {
     "data": {
      "text/plain": [
       "13511.0"
      ]
     },
     "execution_count": 88,
     "metadata": {},
     "output_type": "execute_result"
    }
   ],
   "source": [
    "security_delay_C"
   ]
  },
  {
   "cell_type": "code",
   "execution_count": 89,
   "metadata": {},
   "outputs": [
    {
     "data": {
      "text/plain": [
       "17214.0"
      ]
     },
     "execution_count": 89,
     "metadata": {},
     "output_type": "execute_result"
    }
   ],
   "source": [
    "security_delay_D"
   ]
  },
  {
   "cell_type": "code",
   "execution_count": 90,
   "metadata": {},
   "outputs": [
    {
     "data": {
      "text/plain": [
       "19307.0"
      ]
     },
     "execution_count": 90,
     "metadata": {},
     "output_type": "execute_result"
    }
   ],
   "source": [
    "security_delay_E"
   ]
  },
  {
   "cell_type": "code",
   "execution_count": 91,
   "metadata": {},
   "outputs": [
    {
     "data": {
      "text/plain": [
       "15318.0"
      ]
     },
     "execution_count": 91,
     "metadata": {},
     "output_type": "execute_result"
    }
   ],
   "source": [
    "security_delay_F"
   ]
  },
  {
   "cell_type": "code",
   "execution_count": 92,
   "metadata": {},
   "outputs": [
    {
     "data": {
      "text/plain": [
       "17866.0"
      ]
     },
     "execution_count": 92,
     "metadata": {},
     "output_type": "execute_result"
    }
   ],
   "source": [
    "security_delay_G"
   ]
  },
  {
   "cell_type": "code",
   "execution_count": 93,
   "metadata": {},
   "outputs": [
    {
     "data": {
      "text/plain": [
       "16455.0"
      ]
     },
     "execution_count": 93,
     "metadata": {},
     "output_type": "execute_result"
    }
   ],
   "source": [
    "security_delay_H"
   ]
  },
  {
   "cell_type": "code",
   "execution_count": 94,
   "metadata": {},
   "outputs": [
    {
     "data": {
      "text/plain": [
       "24782.0"
      ]
     },
     "execution_count": 94,
     "metadata": {},
     "output_type": "execute_result"
    }
   ],
   "source": [
    "security_delay_I"
   ]
  },
  {
   "cell_type": "code",
   "execution_count": 95,
   "metadata": {},
   "outputs": [
    {
     "data": {
      "text/plain": [
       "21882.0"
      ]
     },
     "execution_count": 95,
     "metadata": {},
     "output_type": "execute_result"
    }
   ],
   "source": [
    "security_delay_J"
   ]
  },
  {
   "cell_type": "code",
   "execution_count": 96,
   "metadata": {},
   "outputs": [
    {
     "data": {
      "text/plain": [
       "17768.0"
      ]
     },
     "execution_count": 96,
     "metadata": {},
     "output_type": "execute_result"
    }
   ],
   "source": [
    "security_delay_K"
   ]
  },
  {
   "cell_type": "code",
   "execution_count": 97,
   "metadata": {},
   "outputs": [
    {
     "data": {
      "text/plain": [
       "21579.0"
      ]
     },
     "execution_count": 97,
     "metadata": {},
     "output_type": "execute_result"
    }
   ],
   "source": [
    "security_delay_L"
   ]
  },
  {
   "cell_type": "code",
   "execution_count": 98,
   "metadata": {},
   "outputs": [
    {
     "data": {
      "text/plain": [
       "25688.0"
      ]
     },
     "execution_count": 98,
     "metadata": {},
     "output_type": "execute_result"
    }
   ],
   "source": [
    "security_delay_M"
   ]
  },
  {
   "cell_type": "code",
   "execution_count": 100,
   "metadata": {},
   "outputs": [
    {
     "data": {
      "text/plain": [
       "16890.0"
      ]
     },
     "execution_count": 100,
     "metadata": {},
     "output_type": "execute_result"
    }
   ],
   "source": [
    "security_delay_N"
   ]
  },
  {
   "cell_type": "code",
   "execution_count": 101,
   "metadata": {},
   "outputs": [
    {
     "data": {
      "text/plain": [
       "15243.0"
      ]
     },
     "execution_count": 101,
     "metadata": {},
     "output_type": "execute_result"
    }
   ],
   "source": [
    "security_delay_O"
   ]
  },
  {
   "cell_type": "code",
   "execution_count": 102,
   "metadata": {},
   "outputs": [
    {
     "data": {
      "text/plain": [
       "18948.0"
      ]
     },
     "execution_count": 102,
     "metadata": {},
     "output_type": "execute_result"
    }
   ],
   "source": [
    "security_delay_P"
   ]
  },
  {
   "cell_type": "code",
   "execution_count": 103,
   "metadata": {},
   "outputs": [
    {
     "data": {
      "text/plain": [
       "23139.0"
      ]
     },
     "execution_count": 103,
     "metadata": {},
     "output_type": "execute_result"
    }
   ],
   "source": [
    "security_delay_Q"
   ]
  },
  {
   "cell_type": "code",
   "execution_count": 104,
   "metadata": {},
   "outputs": [
    {
     "data": {
      "text/plain": [
       "36840.0"
      ]
     },
     "execution_count": 104,
     "metadata": {},
     "output_type": "execute_result"
    }
   ],
   "source": [
    "security_delay_R"
   ]
  },
  {
   "cell_type": "code",
   "execution_count": 105,
   "metadata": {},
   "outputs": [
    {
     "data": {
      "text/plain": [
       "28278.0"
      ]
     },
     "execution_count": 105,
     "metadata": {},
     "output_type": "execute_result"
    }
   ],
   "source": [
    "security_delay_S"
   ]
  },
  {
   "cell_type": "code",
   "execution_count": 106,
   "metadata": {},
   "outputs": [
    {
     "data": {
      "text/plain": [
       "26615.0"
      ]
     },
     "execution_count": 106,
     "metadata": {},
     "output_type": "execute_result"
    }
   ],
   "source": [
    "security_delay_T"
   ]
  },
  {
   "cell_type": "code",
   "execution_count": 107,
   "metadata": {},
   "outputs": [
    {
     "data": {
      "text/plain": [
       "8135171.0"
      ]
     },
     "execution_count": 107,
     "metadata": {},
     "output_type": "execute_result"
    }
   ],
   "source": [
    "late_aircraft_delay_A"
   ]
  },
  {
   "cell_type": "code",
   "execution_count": 108,
   "metadata": {},
   "outputs": [
    {
     "data": {
      "text/plain": [
       "6679500.0"
      ]
     },
     "execution_count": 108,
     "metadata": {},
     "output_type": "execute_result"
    }
   ],
   "source": [
    "late_aircraft_delay_B"
   ]
  },
  {
   "cell_type": "code",
   "execution_count": 109,
   "metadata": {},
   "outputs": [
    {
     "data": {
      "text/plain": [
       "7930166.0"
      ]
     },
     "execution_count": 109,
     "metadata": {},
     "output_type": "execute_result"
    }
   ],
   "source": [
    "late_aircraft_delay_C"
   ]
  },
  {
   "cell_type": "code",
   "execution_count": 110,
   "metadata": {},
   "outputs": [
    {
     "data": {
      "text/plain": [
       "8014121.0"
      ]
     },
     "execution_count": 110,
     "metadata": {},
     "output_type": "execute_result"
    }
   ],
   "source": [
    "late_aircraft_delay_D"
   ]
  },
  {
   "cell_type": "code",
   "execution_count": 111,
   "metadata": {},
   "outputs": [
    {
     "data": {
      "text/plain": [
       "7184264.0"
      ]
     },
     "execution_count": 111,
     "metadata": {},
     "output_type": "execute_result"
    }
   ],
   "source": [
    "late_aircraft_delay_E"
   ]
  },
  {
   "cell_type": "code",
   "execution_count": 112,
   "metadata": {},
   "outputs": [
    {
     "data": {
      "text/plain": [
       "6355433.0"
      ]
     },
     "execution_count": 112,
     "metadata": {},
     "output_type": "execute_result"
    }
   ],
   "source": [
    "late_aircraft_delay_F"
   ]
  },
  {
   "cell_type": "code",
   "execution_count": 113,
   "metadata": {},
   "outputs": [
    {
     "data": {
      "text/plain": [
       "6497873.0"
      ]
     },
     "execution_count": 113,
     "metadata": {},
     "output_type": "execute_result"
    }
   ],
   "source": [
    "late_aircraft_delay_G"
   ]
  },
  {
   "cell_type": "code",
   "execution_count": 114,
   "metadata": {},
   "outputs": [
    {
     "data": {
      "text/plain": [
       "7013794.0"
      ]
     },
     "execution_count": 114,
     "metadata": {},
     "output_type": "execute_result"
    }
   ],
   "source": [
    "late_aircraft_delay_H"
   ]
  },
  {
   "cell_type": "code",
   "execution_count": 115,
   "metadata": {},
   "outputs": [
    {
     "data": {
      "text/plain": [
       "6212030.0"
      ]
     },
     "execution_count": 115,
     "metadata": {},
     "output_type": "execute_result"
    }
   ],
   "source": [
    "late_aircraft_delay_I"
   ]
  },
  {
   "cell_type": "code",
   "execution_count": 116,
   "metadata": {},
   "outputs": [
    {
     "data": {
      "text/plain": [
       "5238234.0"
      ]
     },
     "execution_count": 116,
     "metadata": {},
     "output_type": "execute_result"
    }
   ],
   "source": [
    "late_aircraft_delay_J"
   ]
  },
  {
   "cell_type": "code",
   "execution_count": 117,
   "metadata": {},
   "outputs": [
    {
     "data": {
      "text/plain": [
       "4901868.0"
      ]
     },
     "execution_count": 117,
     "metadata": {},
     "output_type": "execute_result"
    }
   ],
   "source": [
    "late_aircraft_delay_K"
   ]
  },
  {
   "cell_type": "code",
   "execution_count": 118,
   "metadata": {},
   "outputs": [
    {
     "data": {
      "text/plain": [
       "5926782.0"
      ]
     },
     "execution_count": 118,
     "metadata": {},
     "output_type": "execute_result"
    }
   ],
   "source": [
    "late_aircraft_delay_L"
   ]
  },
  {
   "cell_type": "code",
   "execution_count": 119,
   "metadata": {},
   "outputs": [
    {
     "data": {
      "text/plain": [
       "7379219.0"
      ]
     },
     "execution_count": 119,
     "metadata": {},
     "output_type": "execute_result"
    }
   ],
   "source": [
    "late_aircraft_delay_M"
   ]
  },
  {
   "cell_type": "code",
   "execution_count": 120,
   "metadata": {},
   "outputs": [
    {
     "data": {
      "text/plain": [
       "5250529.0"
      ]
     },
     "execution_count": 120,
     "metadata": {},
     "output_type": "execute_result"
    }
   ],
   "source": [
    "late_aircraft_delay_N"
   ]
  },
  {
   "cell_type": "code",
   "execution_count": 121,
   "metadata": {},
   "outputs": [
    {
     "data": {
      "text/plain": [
       "6048965.0"
      ]
     },
     "execution_count": 121,
     "metadata": {},
     "output_type": "execute_result"
    }
   ],
   "source": [
    "late_aircraft_delay_O"
   ]
  },
  {
   "cell_type": "code",
   "execution_count": 122,
   "metadata": {},
   "outputs": [
    {
     "data": {
      "text/plain": [
       "8074643.0"
      ]
     },
     "execution_count": 122,
     "metadata": {},
     "output_type": "execute_result"
    }
   ],
   "source": [
    "late_aircraft_delay_P"
   ]
  },
  {
   "cell_type": "code",
   "execution_count": 123,
   "metadata": {},
   "outputs": [
    {
     "data": {
      "text/plain": [
       "7054599.0"
      ]
     },
     "execution_count": 123,
     "metadata": {},
     "output_type": "execute_result"
    }
   ],
   "source": [
    "late_aircraft_delay_Q"
   ]
  },
  {
   "cell_type": "code",
   "execution_count": 124,
   "metadata": {},
   "outputs": [
    {
     "data": {
      "text/plain": [
       "4726863.0"
      ]
     },
     "execution_count": 124,
     "metadata": {},
     "output_type": "execute_result"
    }
   ],
   "source": [
    "late_aircraft_delay_R"
   ]
  },
  {
   "cell_type": "code",
   "execution_count": 125,
   "metadata": {},
   "outputs": [
    {
     "data": {
      "text/plain": [
       "7117026.0"
      ]
     },
     "execution_count": 125,
     "metadata": {},
     "output_type": "execute_result"
    }
   ],
   "source": [
    "late_aircraft_delay_S"
   ]
  },
  {
   "cell_type": "code",
   "execution_count": 126,
   "metadata": {},
   "outputs": [
    {
     "data": {
      "text/plain": [
       "9486650.0"
      ]
     },
     "execution_count": 126,
     "metadata": {},
     "output_type": "execute_result"
    }
   ],
   "source": [
    "late_aircraft_delay_T"
   ]
  },
  {
   "cell_type": "code",
   "execution_count": 127,
   "metadata": {},
   "outputs": [
    {
     "data": {
      "text/plain": [
       "19037153.0"
      ]
     },
     "execution_count": 127,
     "metadata": {},
     "output_type": "execute_result"
    }
   ],
   "source": [
    "#Calculating Total Delays by Season in Minutes\n",
    "Total_delay_A= seasondelay_A[\"nas_delay\"].sum() + seasondelay_A[\"security_delay\"].sum() + seasondelay_A[\"late_aircraft_delay\"].sum() + seasondelay_A[\"carrier_delay\"].sum() + seasondelay_A[\" weather_delay\"].sum()\n",
    "Total_delay_A"
   ]
  },
  {
   "cell_type": "code",
   "execution_count": 128,
   "metadata": {},
   "outputs": [
    {
     "data": {
      "text/plain": [
       "15797641.0"
      ]
     },
     "execution_count": 128,
     "metadata": {},
     "output_type": "execute_result"
    }
   ],
   "source": [
    "Total_delay_B= seasondelay_B[\"nas_delay\"].sum() + seasondelay_B[\"security_delay\"].sum() + seasondelay_B[\"late_aircraft_delay\"].sum() + seasondelay_B[\"carrier_delay\"].sum() + seasondelay_B[\" weather_delay\"].sum()\n",
    "Total_delay_B"
   ]
  },
  {
   "cell_type": "code",
   "execution_count": 129,
   "metadata": {},
   "outputs": [
    {
     "data": {
      "text/plain": [
       "18857838.0"
      ]
     },
     "execution_count": 129,
     "metadata": {},
     "output_type": "execute_result"
    }
   ],
   "source": [
    "Total_delay_C= seasondelay_C[\"nas_delay\"].sum() + seasondelay_C[\"security_delay\"].sum() + seasondelay_C[\"late_aircraft_delay\"].sum() + seasondelay_C[\"carrier_delay\"].sum() + seasondelay_C[\" weather_delay\"].sum()\n",
    "Total_delay_C"
   ]
  },
  {
   "cell_type": "code",
   "execution_count": 130,
   "metadata": {},
   "outputs": [
    {
     "data": {
      "text/plain": [
       "18728272.0"
      ]
     },
     "execution_count": 130,
     "metadata": {},
     "output_type": "execute_result"
    }
   ],
   "source": [
    "Total_delay_D= seasondelay_D[\"nas_delay\"].sum() + seasondelay_D[\"security_delay\"].sum() + seasondelay_D[\"late_aircraft_delay\"].sum() + seasondelay_D[\"carrier_delay\"].sum() + seasondelay_D[\" weather_delay\"].sum()\n",
    "Total_delay_D"
   ]
  },
  {
   "cell_type": "code",
   "execution_count": 131,
   "metadata": {},
   "outputs": [
    {
     "data": {
      "text/plain": [
       "17293216.0"
      ]
     },
     "execution_count": 131,
     "metadata": {},
     "output_type": "execute_result"
    }
   ],
   "source": [
    "Total_delay_E= seasondelay_E[\"nas_delay\"].sum() + seasondelay_E[\"security_delay\"].sum() + seasondelay_E[\"late_aircraft_delay\"].sum() + seasondelay_E[\"carrier_delay\"].sum() + seasondelay_E[\" weather_delay\"].sum()\n",
    "Total_delay_E"
   ]
  },
  {
   "cell_type": "code",
   "execution_count": 132,
   "metadata": {},
   "outputs": [
    {
     "data": {
      "text/plain": [
       "15437635.0"
      ]
     },
     "execution_count": 132,
     "metadata": {},
     "output_type": "execute_result"
    }
   ],
   "source": [
    "Total_delay_F= seasondelay_F[\"nas_delay\"].sum() + seasondelay_F[\"security_delay\"].sum() + seasondelay_F[\"late_aircraft_delay\"].sum() + seasondelay_F[\"carrier_delay\"].sum() + seasondelay_F[\" weather_delay\"].sum()\n",
    "Total_delay_F"
   ]
  },
  {
   "cell_type": "code",
   "execution_count": 133,
   "metadata": {},
   "outputs": [
    {
     "data": {
      "text/plain": [
       "16514368.0"
      ]
     },
     "execution_count": 133,
     "metadata": {},
     "output_type": "execute_result"
    }
   ],
   "source": [
    "Total_delay_G= seasondelay_G[\"nas_delay\"].sum() + seasondelay_G[\"security_delay\"].sum() + seasondelay_G[\"late_aircraft_delay\"].sum() + seasondelay_G[\"carrier_delay\"].sum() + seasondelay_G[\" weather_delay\"].sum()\n",
    "Total_delay_G"
   ]
  },
  {
   "cell_type": "code",
   "execution_count": 134,
   "metadata": {},
   "outputs": [
    {
     "data": {
      "text/plain": [
       "17427487.0"
      ]
     },
     "execution_count": 134,
     "metadata": {},
     "output_type": "execute_result"
    }
   ],
   "source": [
    "Total_delay_H= seasondelay_H[\"nas_delay\"].sum() + seasondelay_H[\"security_delay\"].sum() + seasondelay_H[\"late_aircraft_delay\"].sum() + seasondelay_H[\"carrier_delay\"].sum() + seasondelay_H[\" weather_delay\"].sum()\n",
    "Total_delay_H"
   ]
  },
  {
   "cell_type": "code",
   "execution_count": 135,
   "metadata": {},
   "outputs": [
    {
     "data": {
      "text/plain": [
       "15294562.0"
      ]
     },
     "execution_count": 135,
     "metadata": {},
     "output_type": "execute_result"
    }
   ],
   "source": [
    "Total_delay_I= seasondelay_I[\"nas_delay\"].sum() + seasondelay_I[\"security_delay\"].sum() + seasondelay_I[\"late_aircraft_delay\"].sum() + seasondelay_I[\"carrier_delay\"].sum() + seasondelay_I[\" weather_delay\"].sum()\n",
    "Total_delay_I"
   ]
  },
  {
   "cell_type": "code",
   "execution_count": 136,
   "metadata": {},
   "outputs": [
    {
     "data": {
      "text/plain": [
       "13415450.0"
      ]
     },
     "execution_count": 136,
     "metadata": {},
     "output_type": "execute_result"
    }
   ],
   "source": [
    "Total_delay_J= seasondelay_J[\"nas_delay\"].sum() + seasondelay_J[\"security_delay\"].sum() + seasondelay_J[\"late_aircraft_delay\"].sum() + seasondelay_J[\"carrier_delay\"].sum() + seasondelay_J[\" weather_delay\"].sum()\n",
    "Total_delay_J"
   ]
  },
  {
   "cell_type": "code",
   "execution_count": 137,
   "metadata": {},
   "outputs": [
    {
     "data": {
      "text/plain": [
       "12979187.0"
      ]
     },
     "execution_count": 137,
     "metadata": {},
     "output_type": "execute_result"
    }
   ],
   "source": [
    "Total_delay_K= seasondelay_K[\"nas_delay\"].sum() + seasondelay_K[\"security_delay\"].sum() + seasondelay_K[\"late_aircraft_delay\"].sum() + seasondelay_K[\"carrier_delay\"].sum() + seasondelay_K[\" weather_delay\"].sum()\n",
    "Total_delay_K"
   ]
  },
  {
   "cell_type": "code",
   "execution_count": 138,
   "metadata": {},
   "outputs": [
    {
     "data": {
      "text/plain": [
       "14665691.0"
      ]
     },
     "execution_count": 138,
     "metadata": {},
     "output_type": "execute_result"
    }
   ],
   "source": [
    "Total_delay_L= seasondelay_L[\"nas_delay\"].sum() + seasondelay_L[\"security_delay\"].sum() + seasondelay_L[\"late_aircraft_delay\"].sum() + seasondelay_L[\"carrier_delay\"].sum() + seasondelay_L[\" weather_delay\"].sum()\n",
    "Total_delay_L"
   ]
  },
  {
   "cell_type": "code",
   "execution_count": 139,
   "metadata": {},
   "outputs": [
    {
     "data": {
      "text/plain": [
       "18786806.0"
      ]
     },
     "execution_count": 139,
     "metadata": {},
     "output_type": "execute_result"
    }
   ],
   "source": [
    "Total_delay_M= seasondelay_M[\"nas_delay\"].sum() + seasondelay_M[\"security_delay\"].sum() + seasondelay_M[\"late_aircraft_delay\"].sum() + seasondelay_M[\"carrier_delay\"].sum() + seasondelay_M[\" weather_delay\"].sum()\n",
    "Total_delay_M"
   ]
  },
  {
   "cell_type": "code",
   "execution_count": 140,
   "metadata": {},
   "outputs": [
    {
     "data": {
      "text/plain": [
       "13418676.0"
      ]
     },
     "execution_count": 140,
     "metadata": {},
     "output_type": "execute_result"
    }
   ],
   "source": [
    "Total_delay_N= seasondelay_N[\"nas_delay\"].sum() + seasondelay_N[\"security_delay\"].sum() + seasondelay_N[\"late_aircraft_delay\"].sum() + seasondelay_N[\"carrier_delay\"].sum() + seasondelay_N[\" weather_delay\"].sum()\n",
    "Total_delay_N"
   ]
  },
  {
   "cell_type": "code",
   "execution_count": 141,
   "metadata": {},
   "outputs": [
    {
     "data": {
      "text/plain": [
       "15590594.0"
      ]
     },
     "execution_count": 141,
     "metadata": {},
     "output_type": "execute_result"
    }
   ],
   "source": [
    "Total_delay_O= seasondelay_O[\"nas_delay\"].sum() + seasondelay_O[\"security_delay\"].sum() + seasondelay_O[\"late_aircraft_delay\"].sum() + seasondelay_O[\"carrier_delay\"].sum() + seasondelay_O[\" weather_delay\"].sum()\n",
    "Total_delay_O"
   ]
  },
  {
   "cell_type": "code",
   "execution_count": 142,
   "metadata": {},
   "outputs": [
    {
     "data": {
      "text/plain": [
       "20178064.0"
      ]
     },
     "execution_count": 142,
     "metadata": {},
     "output_type": "execute_result"
    }
   ],
   "source": [
    "Total_delay_P= seasondelay_P[\"nas_delay\"].sum() + seasondelay_P[\"security_delay\"].sum() + seasondelay_P[\"late_aircraft_delay\"].sum() + seasondelay_P[\"carrier_delay\"].sum() + seasondelay_P[\" weather_delay\"].sum()\n",
    "Total_delay_P"
   ]
  },
  {
   "cell_type": "code",
   "execution_count": 143,
   "metadata": {},
   "outputs": [
    {
     "data": {
      "text/plain": [
       "17511467.0"
      ]
     },
     "execution_count": 143,
     "metadata": {},
     "output_type": "execute_result"
    }
   ],
   "source": [
    "Total_delay_Q= seasondelay_Q[\"nas_delay\"].sum() + seasondelay_Q[\"security_delay\"].sum() + seasondelay_Q[\"late_aircraft_delay\"].sum() + seasondelay_Q[\"carrier_delay\"].sum() + seasondelay_Q[\" weather_delay\"].sum()\n",
    "Total_delay_Q"
   ]
  },
  {
   "cell_type": "code",
   "execution_count": 144,
   "metadata": {},
   "outputs": [
    {
     "data": {
      "text/plain": [
       "12536363.0"
      ]
     },
     "execution_count": 144,
     "metadata": {},
     "output_type": "execute_result"
    }
   ],
   "source": [
    "Total_delay_R= seasondelay_R[\"nas_delay\"].sum() + seasondelay_R[\"security_delay\"].sum() + seasondelay_R[\"late_aircraft_delay\"].sum() + seasondelay_R[\"carrier_delay\"].sum() + seasondelay_R[\" weather_delay\"].sum()\n",
    "Total_delay_R"
   ]
  },
  {
   "cell_type": "code",
   "execution_count": 145,
   "metadata": {},
   "outputs": [
    {
     "data": {
      "text/plain": [
       "18263060.0"
      ]
     },
     "execution_count": 145,
     "metadata": {},
     "output_type": "execute_result"
    }
   ],
   "source": [
    "Total_delay_S= seasondelay_S[\"nas_delay\"].sum() + seasondelay_S[\"security_delay\"].sum() + seasondelay_S[\"late_aircraft_delay\"].sum() + seasondelay_S[\"carrier_delay\"].sum() + seasondelay_S[\" weather_delay\"].sum()\n",
    "Total_delay_S"
   ]
  },
  {
   "cell_type": "code",
   "execution_count": 146,
   "metadata": {},
   "outputs": [
    {
     "data": {
      "text/plain": [
       "23484847.0"
      ]
     },
     "execution_count": 146,
     "metadata": {},
     "output_type": "execute_result"
    }
   ],
   "source": [
    "Total_delay_T= seasondelay_T[\"nas_delay\"].sum() + seasondelay_T[\"security_delay\"].sum() + seasondelay_T[\"late_aircraft_delay\"].sum() + seasondelay_T[\"carrier_delay\"].sum() + seasondelay_T[\" weather_delay\"].sum() \n",
    "Total_delay_T"
   ]
  },
  {
   "cell_type": "code",
   "execution_count": 151,
   "metadata": {},
   "outputs": [],
   "source": [
    "Seasons = [\"Sum 2013\", \"Fall 2013\", \"Win 2014\", \"Spr 2014\", \"Sum 2014\", \"Fall 2014\", \"Win 2015\", \"Spr 2015\", \"Sum 2015\", \"Fall 2015\", \"Win 2016\", \"Spr 2016\", \"Sum 2016\", \"Fall 2016\", \"Win 2017\", \"Spr 2017\", \"Sum 2017\", \"Fall 2017\", \"Win 2018\", \"Spr 2018\"]\n",
    "bars_in_seasons = [19037153, 15797641, 18857838, 18728272, 17293216, 15437635, 16514368, 17427487, 15294562, 13415450, 12979187, 14665691, 18786806, 13418676, 15590594, 20178064, 17511467, 12536363, 18263060, 23484847  ]\n",
    "\n",
    "x_axis = np.arange(len(Seasons))"
   ]
  },
  {
   "cell_type": "code",
   "execution_count": 154,
   "metadata": {},
   "outputs": [
    {
     "data": {
      "text/plain": [
       "<BarContainer object of 20 artists>"
      ]
     },
     "execution_count": 154,
     "metadata": {},
     "output_type": "execute_result"
    },
    {
     "data": {
      "image/png": "[encoded data removed]",
      "text/plain": [
       "<Figure size 1440x864 with 1 Axes>"
      ]
     },
     "metadata": {},
     "output_type": "display_data"
    }
   ],
   "source": [
    "# Create a bar chart based upon the above data\n",
    "plt.xticks(x_axis, Seasons)\n",
    "plt.ylabel(\"Total Flights Delayed\")\n",
    "plt.title(\"Total Flights Delays By Seasons\")\n",
    "#plt.bar(x_axis, bars_in_seasons, color=\"b\", align=\"center\")\n",
    "plt.bar(x_axis, bars_in_seasons, label=\"Total Delays\")\n",
    "#plt.bar(x_axis, late_aircraft, label=\"Aircraft Delays\")\n",
    "#plt.bar(x_axis, security_delay, label=\"Security Delays\")"
   ]
  },
  {
   "cell_type": "code",
   "execution_count": 153,
   "metadata": {},
   "outputs": [],
   "source": [
    "# Create the ticks for our bar chart's x axis\n",
    "#tick_locations = [value for value in x_axis]\n",
    "#plt.xticks(tick_locations, Seasons)\n",
    "plt.rcParams['figure.figsize'] = (20,12)"
   ]
  },
  {
   "cell_type": "code",
   "execution_count": 150,
   "metadata": {},
   "outputs": [],
   "source": [
    "# Set the limits of the x axis\n",
    "#plt.xlim(-0.75, len(x_axis)-0.25)"
   ]
  },
  {
   "cell_type": "code",
   "execution_count": 155,
   "metadata": {},
   "outputs": [],
   "source": [
    "weather_delay = [1028591, 792621, 738158, 429299 ]\n",
    "late_air_delay = [7930166, 8014121, 7184264, 6355433]\n",
    "secure_delay = [13511, 17214, 19307, 15318]\n",
    "carriers_delay = [5870259, 5436456, 5265577, 4687117]\n",
    "nas_delay = [4015311, 4467860, 4085910, 3950468 ]\n",
    "x = np.arange(len(weather_delay))"
   ]
  },
  {
   "cell_type": "code",
   "execution_count": 163,
   "metadata": {},
   "outputs": [
    {
     "data": {
      "image/png": "[encoded data removed]",
      "text/plain": [
       "<Figure size 1440x864 with 1 Axes>"
      ]
     },
     "metadata": {},
     "output_type": "display_data"
    }
   ],
   "source": [
    "bar_width = 0.15\n",
    "plt.bar(x, weather_delay, width=bar_width, color='green', zorder=2)\n",
    "plt.bar(x + bar_width, late_air_delay, width=bar_width, color='red', zorder=2)\n",
    "plt.bar(x + bar_width*2, secure_delay, width=bar_width, color='orange', zorder=2)\n",
    "plt.bar(x + bar_width*3, carriers_delay, width=bar_width, color='purple', zorder=2)\n",
    "plt.bar(x + bar_width*4, nas_delay, width=bar_width, color='blue', zorder=2)\n",
    "plt.xticks(x + bar_width*2, ['Winter 2014', 'Spring 2014', 'Summer 2014', 'Fall 2014'])\n",
    "plt.title('Total Flight Delays for 2014 By Season')\n",
    "plt.xlabel('Delay Cause')\n",
    "plt.ylabel('Total Flights Delayed')\n",
    "green_patch = mpatches.Patch(color='green', label='Weather Delay')\n",
    "red_patch = mpatches.Patch(color='red', label='Late Aircraft Delay')\n",
    "orange_patch = mpatches.Patch(color='orange', label='Security Delay')\n",
    "purple_patch = mpatches.Patch(color='purple', label='Carrier Delay')\n",
    "blue_patch = mpatches.Patch(color='blue', label='NAS Delay')\n",
    "plt.legend(handles=[green_patch, red_patch, orange_patch, purple_patch, blue_patch])\n",
    "plt.rcParams['figure.figsize'] = (20,12)"
   ]
  },
  {
   "cell_type": "code",
   "execution_count": 157,
   "metadata": {},
   "outputs": [],
   "source": [
    "weather_delay = [903013, 938844, 635303, 623073 ]\n",
    "late_air_delay = [6497873, 7013794, 6212030, 5238234]\n",
    "secure_delay = [17866,16455, 24782, 21882]\n",
    "carriers_delay = [5239495, 5454847, 5017768, 4460846]\n",
    "nas_delay = [3856121, 4003547, 3404679, 3071415 ]\n",
    "x = np.arange(len(weather_delay))"
   ]
  },
  {
   "cell_type": "code",
   "execution_count": 164,
   "metadata": {},
   "outputs": [
    {
     "data": {
      "image/png": "[encoded data removed]",
      "text/plain": [
       "<Figure size 1440x864 with 1 Axes>"
      ]
     },
     "metadata": {},
     "output_type": "display_data"
    }
   ],
   "source": [
    "bar_width = 0.15\n",
    "plt.bar(x, weather_delay, width=bar_width, color='green', zorder=2)\n",
    "plt.bar(x + bar_width, late_air_delay, width=bar_width, color='red', zorder=2)\n",
    "plt.bar(x + bar_width*2, secure_delay, width=bar_width, color='orange', zorder=2)\n",
    "plt.bar(x + bar_width*3, carriers_delay, width=bar_width, color='purple', zorder=2)\n",
    "plt.bar(x + bar_width*4, nas_delay, width=bar_width, color='blue', zorder=2)\n",
    "plt.xticks(x + bar_width*2, ['Winter 2015', 'Spring 2015', 'Summer 2015', 'Fall 2015'])\n",
    "plt.title('Total Flight Delays for 2015 By Season')\n",
    "plt.xlabel('Delay Cause')\n",
    "plt.ylabel('Total Flights Delayed')\n",
    "green_patch = mpatches.Patch(color='green', label='Weather Delay')\n",
    "red_patch = mpatches.Patch(color='red', label='Late Aircraft Delay')\n",
    "orange_patch = mpatches.Patch(color='orange', label='Security Delay')\n",
    "purple_patch = mpatches.Patch(color='purple', label='Carrier Delay')\n",
    "blue_patch = mpatches.Patch(color='blue', label='NAS Delay')\n",
    "plt.legend(handles=[green_patch, red_patch, orange_patch, purple_patch, blue_patch])\n",
    "plt.rcParams['figure.figsize'] = (20,12)"
   ]
  },
  {
   "cell_type": "code",
   "execution_count": 159,
   "metadata": {},
   "outputs": [],
   "source": [
    "weather_delay = [585794, 667475, 848115, 504699]\n",
    "late_air_delay = [4901868, 5926782, 7379219, 5250529]\n",
    "secure_delay = [17768, 21579, 25688, 16890]\n",
    "carriers_delay = [4253408, 4765838, 6059450, 4454641]\n",
    "nas_delay = [3220349, 3284017, 4474334, 3191917 ]\n",
    "x = np.arange(len(weather_delay))"
   ]
  },
  {
   "cell_type": "code",
   "execution_count": 165,
   "metadata": {},
   "outputs": [
    {
     "data": {
      "image/png": "[encoded data removed]",
      "text/plain": [
       "<Figure size 1440x864 with 1 Axes>"
      ]
     },
     "metadata": {},
     "output_type": "display_data"
    }
   ],
   "source": [
    "bar_width = 0.15\n",
    "plt.bar(x, weather_delay, width=bar_width, color='green', zorder=2)\n",
    "plt.bar(x + bar_width, late_air_delay, width=bar_width, color='red', zorder=2)\n",
    "plt.bar(x + bar_width*2, secure_delay, width=bar_width, color='orange', zorder=2)\n",
    "plt.bar(x + bar_width*3, carriers_delay, width=bar_width, color='purple', zorder=2)\n",
    "plt.bar(x + bar_width*4, nas_delay, width=bar_width, color='blue', zorder=2)\n",
    "plt.xticks(x + bar_width*2, ['Winter 2016', 'Spring 2016', 'Summer 2016', 'Fall 2016'])\n",
    "plt.title('Total Flight Delays for 2016 By Season')\n",
    "plt.xlabel('Delay Cause')\n",
    "plt.ylabel('Total Flights Delayed')\n",
    "green_patch = mpatches.Patch(color='green', label='Weather Delay')\n",
    "red_patch = mpatches.Patch(color='red', label='Late Aircraft Delay')\n",
    "orange_patch = mpatches.Patch(color='orange', label='Security Delay')\n",
    "purple_patch = mpatches.Patch(color='purple', label='Carrier Delay')\n",
    "blue_patch = mpatches.Patch(color='blue', label='NAS Delay')\n",
    "plt.legend(handles=[green_patch, red_patch, orange_patch, purple_patch, blue_patch])\n",
    "plt.rcParams['figure.figsize'] = (20,12)"
   ]
  },
  {
   "cell_type": "code",
   "execution_count": 161,
   "metadata": {},
   "outputs": [],
   "source": [
    "weather_delay = [680419, 844074, 766802, 508464]\n",
    "late_air_delay = [6048965, 8074643, 7054599, 4726863]\n",
    "secure_delay = [15243, 18948, 23139, 36840]\n",
    "carriers_delay = [4897061, 5966480, 5376886, 4276275]\n",
    "nas_delay = [3948906, 5273919, 4290041, 2987921 ]\n",
    "x = np.arange(len(weather_delay))"
   ]
  },
  {
   "cell_type": "code",
   "execution_count": 166,
   "metadata": {},
   "outputs": [
    {
     "data": {
      "image/png": "[encoded data removed]",
      "text/plain": [
       "<Figure size 1440x864 with 1 Axes>"
      ]
     },
     "metadata": {},
     "output_type": "display_data"
    }
   ],
   "source": [
    "bar_width = 0.15\n",
    "plt.bar(x, weather_delay, width=bar_width, color='green', zorder=2)\n",
    "plt.bar(x + bar_width, late_air_delay, width=bar_width, color='red', zorder=2)\n",
    "plt.bar(x + bar_width*2, secure_delay, width=bar_width, color='orange', zorder=2)\n",
    "plt.bar(x + bar_width*3, carriers_delay, width=bar_width, color='purple', zorder=2)\n",
    "plt.bar(x + bar_width*4, nas_delay, width=bar_width, color='blue', zorder=2)\n",
    "plt.xticks(x + bar_width*2, ['Winter 2017', 'Spring 2017', 'Summer 2017', 'Fall 2017'])\n",
    "plt.title('Total Flight Delays for 2017 By Season')\n",
    "plt.xlabel('Delay Cause')\n",
    "plt.ylabel('Total Flights Delayed ')\n",
    "green_patch = mpatches.Patch(color='green', label='Weather Delay')\n",
    "red_patch = mpatches.Patch(color='red', label='Late Aircraft Delay')\n",
    "orange_patch = mpatches.Patch(color='orange', label='Security Delay')\n",
    "purple_patch = mpatches.Patch(color='purple', label='Carrier Delay')\n",
    "blue_patch = mpatches.Patch(color='blue', label='NAS Delay')\n",
    "plt.legend(handles=[green_patch, red_patch, orange_patch, purple_patch, blue_patch])\n",
    "plt.rcParams['figure.figsize'] = (20,12)"
   ]
  },
  {
   "cell_type": "code",
   "execution_count": null,
   "metadata": {},
   "outputs": [],
   "source": []
  }
 ],
 "metadata": {
  "kernelspec": {
   "display_name": "Python 3",
   "language": "python",
   "name": "python3"
  },
  "language_info": {
   "codemirror_mode": {
    "name": "ipython",
    "version": 3
   },
   "file_extension": ".py",
   "mimetype": "text/x-python",
   "name": "python",
   "nbconvert_exporter": "python",
   "pygments_lexer": "ipython3",
   "version": "3.6.5"
  }
 },
 "nbformat": 4,
 "nbformat_minor": 2
}
